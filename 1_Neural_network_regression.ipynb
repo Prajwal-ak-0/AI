{
  "nbformat": 4,
  "nbformat_minor": 0,
  "metadata": {
    "colab": {
      "provenance": [],
      "gpuType": "T4",
      "authorship_tag": "ABX9TyNeJzX9D8T+28W0ZBIr0mhW",
      "include_colab_link": true
    },
    "kernelspec": {
      "name": "python3",
      "display_name": "Python 3"
    },
    "language_info": {
      "name": "python"
    },
    "accelerator": "GPU"
  },
  "cells": [
    {
      "cell_type": "markdown",
      "metadata": {
        "id": "view-in-github",
        "colab_type": "text"
      },
      "source": [
        "<a href=\"https://colab.research.google.com/github/Prajwal-ak-0/AI/blob/master/1_Neural_network_regression.ipynb\" target=\"_parent\"><img src=\"https://colab.research.google.com/assets/colab-badge.svg\" alt=\"Open In Colab\"/></a>"
      ]
    },
    {
      "cell_type": "markdown",
      "source": [
        "## Using Tensorflow for Neural Network Regression\n",
        "\n",
        "### Key Steps:\n",
        "\n",
        "1. **Data Preparation:** Begin by preparing your dataset.\n",
        "   \n",
        "2. **Model Initialization:** Configure the model by defining the input layer, hidden layers, number of nodes in each hidden layer, and output layer shape.\n",
        "\n",
        "3. **Model Compilation:** Specify the loss function, optimizer, and evaluation metrics to train the model effectively.\n",
        "\n",
        "4. **Result Visualization:** Visualize the outcomes to gain insights and assess model performance.\n",
        "\n",
        "5. **Model Saving and Deployment:** Save your trained model for future use and deploy it in production environments seamlessly.\n",
        "\n",
        "### Hyperparameters:\n",
        "Hyperparameters are like dials that control how a model learns. By setting them right, we can make sure the model learns effectively without memorizing the data. It's like finding the perfect balance for the model to do its best. Some of them are as follows :\n",
        "\n",
        "\n",
        "1.   Input layer Shape\n",
        "2.   Hidden layer\n",
        "3.   Neurons per hidden layer\n",
        "4.   Output layer shape.\n",
        "5.   Hidden Activation\n",
        "6.   Output activation\n",
        "7.   Loss function\n",
        "8.   Optimizer\n"
      ],
      "metadata": {
        "id": "_kpFnRJK9Oii"
      }
    },
    {
      "cell_type": "code",
      "source": [
        "import tensorflow as tf\n",
        "print(tf.__version__)"
      ],
      "metadata": {
        "colab": {
          "base_uri": "https://localhost:8080/"
        },
        "id": "rmeuzLarCZhR",
        "outputId": "fae6787c-a290-457b-8b51-8ed7386b8e13"
      },
      "execution_count": 1,
      "outputs": [
        {
          "output_type": "stream",
          "name": "stdout",
          "text": [
            "2.15.0\n"
          ]
        }
      ]
    },
    {
      "cell_type": "markdown",
      "source": [
        "### Creating custom sample data, view and fix it."
      ],
      "metadata": {
        "id": "xiOWWYKLDpae"
      }
    },
    {
      "cell_type": "code",
      "source": [
        "import numpy as np\n",
        "import matplotlib.pyplot as plt\n",
        "\n",
        "X = np.array([1,4,7,10,13,16,19,22])\n",
        "y = np.array([-4,-1, 2,5,8,11,14,17])\n",
        "plt.scatter(X,y)"
      ],
      "metadata": {
        "colab": {
          "base_uri": "https://localhost:8080/",
          "height": 447
        },
        "id": "9agsPLpwDxeY",
        "outputId": "e0a08aa0-6852-4cfd-d670-e4c6294b6f06"
      },
      "execution_count": 7,
      "outputs": [
        {
          "output_type": "execute_result",
          "data": {
            "text/plain": [
              "<matplotlib.collections.PathCollection at 0x7eb347664580>"
            ]
          },
          "metadata": {},
          "execution_count": 7
        },
        {
          "output_type": "display_data",
          "data": {
            "text/plain": [
              "<Figure size 640x480 with 1 Axes>"
            ],
            "image/png": "[encoded data removed]"
          },
          "metadata": {}
        }
      ]
    },
    {
      "cell_type": "code",
      "source": [],
      "metadata": {
        "id": "tfsAzlPYD4mm"
      },
      "execution_count": null,
      "outputs": []
    }
  ]
}