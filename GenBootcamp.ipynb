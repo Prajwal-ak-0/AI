{
  "cells": [
    {
      "cell_type": "markdown",
      "metadata": {
        "id": "view-in-github",
        "colab_type": "text"
      },
      "source": [
        "<a href=\"https://colab.research.google.com/github/Prajwal-ak-0/AI/blob/master/GenBootcamp.ipynb\" target=\"_parent\"><img src=\"https://colab.research.google.com/assets/colab-badge.svg\" alt=\"Open In Colab\"/></a>"
      ]
    },
    {
      "cell_type": "markdown",
      "metadata": {
        "id": "V_tJARuC7_Nn"
      },
      "source": [
        "# Introduction to `Fasttext` and `gensim` library"
      ]
    },
    {
      "cell_type": "code",
      "execution_count": 1,
      "metadata": {
        "id": "tyXtbg_4DnsV"
      },
      "outputs": [],
      "source": [
        "from gensim.models import KeyedVectors\n",
        "\n",
        "# Load the word embeddings\n",
        "word_vectors = KeyedVectors.load_word2vec_format('/content/drive/MyDrive/wiki-news-300d-1M.vec')"
      ]
    },
    {
      "cell_type": "code",
      "execution_count": 2,
      "metadata": {
        "id": "Qco3p2lQoIYn",
        "colab": {
          "base_uri": "https://localhost:8080/"
        },
        "outputId": "fca9c5f5-867e-4121-efb2-6c9611a0be2c"
      },
      "outputs": [
        {
          "output_type": "stream",
          "name": "stdout",
          "text": [
            "Word Vector for 'beautiful': [ 7.470e-02 -1.296e-01 -1.280e-02 -7.950e-02 -3.080e-02  3.100e-02\n",
            " -8.310e-02  1.055e-01 -1.157e-01  1.269e-01 -2.230e-02 -6.670e-02\n",
            "  2.100e-03 -1.243e-01  8.000e-02  6.680e-02  9.140e-02 -7.920e-02\n",
            "  1.080e-02 -1.228e-01 -5.720e-02  4.320e-02  5.340e-02  1.008e-01\n",
            " -3.380e-02  5.280e-02 -6.140e-02 -1.515e-01  6.200e-03 -2.870e-02\n",
            " -1.080e-02  2.700e-02  8.790e-02 -2.230e-02  2.610e-02 -6.160e-02\n",
            " -7.820e-02 -4.470e-02 -8.000e-03  2.000e-04  1.244e-01 -4.180e-02\n",
            " -2.930e-02 -1.095e-01 -6.000e-04 -2.820e-02  1.260e-02 -1.180e-01\n",
            " -1.065e-01 -4.910e-02 -3.510e-02 -4.680e-02 -7.274e-01  6.710e-02\n",
            " -5.510e-02 -9.840e-02 -1.490e-01  8.370e-02 -3.700e-03  6.160e-02\n",
            "  1.501e-01 -1.293e-01  4.070e-02 -3.700e-02 -3.660e-02 -1.323e-01\n",
            "  1.422e-01  9.900e-02  6.340e-02 -2.420e-02  8.870e-02  6.560e-02\n",
            " -5.830e-02  4.280e-02 -2.440e-02 -4.710e-02 -1.950e-02 -3.720e-02\n",
            " -5.220e-02 -1.610e-02  3.480e-02  3.960e-02 -8.730e-02 -1.649e-01\n",
            " -6.670e-02  2.210e-02  3.370e-02 -4.770e-02  1.406e-01 -8.200e-02\n",
            "  2.980e-02  8.780e-02  3.210e-02 -1.230e-02  4.400e-03 -5.650e-02\n",
            " -1.010e-02  7.030e-02  1.248e-01  1.216e-01 -2.025e-01  4.870e-02\n",
            "  2.700e-02  3.210e-02 -1.660e-02  1.520e-02  1.958e-01  1.684e-01\n",
            "  1.531e-01 -1.678e-01  1.750e-01 -2.399e-01  1.120e-02 -1.730e-01\n",
            " -9.320e-02 -1.473e-01  2.090e-02 -1.666e-01 -8.250e-02 -2.654e-01\n",
            " -1.104e-01  2.540e-02  1.287e-01  4.000e-02 -1.483e-01  2.281e-01\n",
            "  3.100e-02  1.860e-02 -1.871e-01  1.840e-02  3.920e-02  2.326e-01\n",
            " -1.300e-03 -2.360e-02 -2.550e-02 -2.624e-01 -7.550e-02  1.805e-01\n",
            " -3.300e-02  6.910e-02  1.017e-01  5.390e-02 -4.670e-02  1.806e-01\n",
            " -3.470e-02 -9.440e-02  1.532e-01 -2.750e-02 -3.590e-02 -9.600e-02\n",
            " -2.565e-01 -5.140e-02 -4.690e-02 -2.920e-02 -3.500e-02  9.570e-02\n",
            "  3.620e-02 -5.500e-02 -6.300e-03  8.590e-02  2.200e-03  8.430e-02\n",
            "  2.043e-01  1.025e-01  2.060e-01  1.010e-01  1.017e-01 -1.570e-02\n",
            "  9.100e-02 -1.041e-01  1.515e-01  1.960e-02 -8.770e-02  1.205e-01\n",
            "  2.165e-01 -7.080e-02  2.622e-01  7.000e-03 -1.030e-01  7.910e-02\n",
            " -1.125e-01  3.290e-02 -7.900e-03  9.960e-02  6.610e-02  1.847e-01\n",
            "  3.700e-03  7.500e-03  9.470e-02  6.040e-02 -3.510e-02 -1.168e-01\n",
            " -5.020e-02  8.290e-02  1.108e-01  7.240e-02 -9.060e-02 -2.960e-02\n",
            "  9.460e-02  3.500e-03  8.300e-03 -1.867e-01 -2.300e-03  4.600e-03\n",
            "  1.600e-03  1.540e-02 -1.736e-01 -1.500e-01 -8.760e-02  1.542e-01\n",
            "  7.260e-02 -1.162e-01 -3.590e-02 -2.900e-02 -2.920e-02  2.470e-02\n",
            " -7.790e-02 -1.005e-01 -1.120e-01  2.263e-01  9.020e-02  7.750e-02\n",
            " -3.000e-03  4.940e-02  8.670e-02 -1.003e-01  9.400e-02 -2.420e-02\n",
            "  1.000e-02 -1.715e-01 -5.700e-02  2.400e-02  2.512e-01 -1.032e-01\n",
            " -4.470e-02  5.360e-02 -3.400e-03 -8.430e-02 -2.124e-01  8.230e-02\n",
            " -1.078e-01  5.280e-02  3.130e-02 -6.300e-02  8.400e-03 -6.400e-02\n",
            " -5.000e-03  1.787e-01 -1.735e-01  3.950e-01  2.058e-01  1.865e-01\n",
            "  1.892e-01 -1.746e-01  9.980e-02 -1.203e-01 -3.680e-02  9.120e-02\n",
            " -2.160e-02 -2.550e-02 -7.680e-02  2.470e-02 -2.620e-02 -2.240e-02\n",
            " -1.308e-01  5.680e-02  5.460e-02 -7.140e-02 -1.583e-01  5.090e-02\n",
            " -2.130e-02 -3.160e-02  4.430e-02  8.150e-02  5.980e-02  8.510e-02\n",
            "  7.130e-02 -5.950e-02  8.450e-02  6.150e-02  3.070e-02 -1.420e-02\n",
            " -7.760e-02  5.020e-02  1.199e-01  1.032e-01 -4.380e-02 -1.943e-01\n",
            " -1.716e-01  1.050e-02  9.600e-02  8.590e-02 -1.709e-01  1.206e-01\n",
            "  2.170e-01  1.300e-01 -7.190e-02  1.294e-01  1.228e-01  1.110e-02]\n"
          ]
        }
      ],
      "source": [
        "# Get the vector corresponding to a word\n",
        "vector = word_vectors['beautiful']\n",
        "print(\"Word Vector for 'beautiful':\", vector)\n"
      ]
    },
    {
      "cell_type": "code",
      "execution_count": 3,
      "metadata": {
        "id": "jLIL9oTPr3CX",
        "colab": {
          "base_uri": "https://localhost:8080/"
        },
        "outputId": "152f1d7b-358a-4699-83b8-d5be0b14166c"
      },
      "outputs": [
        {
          "output_type": "stream",
          "name": "stdout",
          "text": [
            "\n",
            "Top 5 words similar to 'beautiful': [('gorgeous', 0.8433856964111328), ('lovely', 0.8281809687614441), ('charming', 0.7809241414070129), ('magnificent', 0.7750603556632996), ('wonderful', 0.753922164440155)]\n"
          ]
        }
      ],
      "source": [
        "# Finding the similar words\n",
        "similar_words = word_vectors.similar_by_word(\"beautiful\", topn=5)\n",
        "print(\"\\nTop 5 words similar to 'beautiful':\", similar_words)"
      ]
    },
    {
      "cell_type": "code",
      "execution_count": 4,
      "metadata": {
        "id": "8L8a9rMnv8e8",
        "colab": {
          "base_uri": "https://localhost:8080/"
        },
        "outputId": "255fd138-f5af-4c1a-c9f9-28045aff08e3"
      },
      "outputs": [
        {
          "output_type": "stream",
          "name": "stdout",
          "text": [
            "\n",
            "Word that doesn't match: lunch\n"
          ]
        }
      ],
      "source": [
        "# Finding the odd one out\n",
        "odd_one_out = word_vectors.doesnt_match([\"wicket\", \"bat\", \"ball\", \"stumps\", \"lunch\"])\n",
        "print(\"\\nWord that doesn't match:\", odd_one_out)"
      ]
    },
    {
      "cell_type": "code",
      "execution_count": 5,
      "metadata": {
        "id": "iqNOMUW1w0a-",
        "colab": {
          "base_uri": "https://localhost:8080/"
        },
        "outputId": "3c3e2bb3-3eb0-4ee8-8aee-fdd662ecd18e"
      },
      "outputs": [
        {
          "output_type": "stream",
          "name": "stdout",
          "text": [
            "\n",
            "Similarity between 'night watchman' and 'man': 0.81645226\n"
          ]
        }
      ],
      "source": [
        "# Calculating the similarity between words\n",
        "similarity = word_vectors.similarity('woman', 'man')\n",
        "print(\"\\nSimilarity between 'night watchman' and 'man':\", similarity)"
      ]
    },
    {
      "cell_type": "code",
      "execution_count": 6,
      "metadata": {
        "id": "52FJONh_xI4t",
        "colab": {
          "base_uri": "https://localhost:8080/"
        },
        "outputId": "dcf29e23-3a08-46ad-b2eb-1b6d401af290"
      },
      "outputs": [
        {
          "output_type": "stream",
          "name": "stdout",
          "text": [
            "\n",
            "Resulting word 'woman' : 'man' :: 'king' :: ? : [('queen', 0.751591145992279), ('monarch', 0.6741327047348022), ('princess', 0.6713886857032776)]\n"
          ]
        }
      ],
      "source": [
        "# Resulting word from the the combination\n",
        "\n",
        "resulting_word = word_vectors.most_similar(positive=['woman', 'king'], negative=['man'], topn=3)\n",
        "print(\"\\nResulting word 'woman' : 'man' :: 'king' :: ? :\", resulting_word)"
      ]
    },
    {
      "cell_type": "code",
      "execution_count": 7,
      "metadata": {
        "id": "7NZSXPsMyqFH",
        "colab": {
          "base_uri": "https://localhost:8080/"
        },
        "outputId": "fbc9588d-9b7b-4da7-d8de-992584be0ee9"
      },
      "outputs": [
        {
          "output_type": "stream",
          "name": "stdout",
          "text": [
            "\n",
            "'tennis' is in the vocabulary.\n"
          ]
        }
      ],
      "source": [
        "# Check if a word is in the vocabulary\n",
        "word = 'tennis'\n",
        "if word in word_vectors:\n",
        "    print(f\"\\n'{word}' is in the vocabulary.\")\n",
        "else:\n",
        "    print(f\"\\n'{word}' is not in the vocabulary.\")"
      ]
    },
    {
      "cell_type": "code",
      "execution_count": 8,
      "metadata": {
        "id": "KhFr_tuiyyPe",
        "colab": {
          "base_uri": "https://localhost:8080/",
          "height": 504
        },
        "outputId": "452cb9c0-a8ff-4692-d687-101571be20f6"
      },
      "outputs": [
        {
          "output_type": "display_data",
          "data": {
            "text/plain": [
              "<Figure size 600x600 with 1 Axes>"
            ],
            "image/png": "[encoded data removed]"
          },
          "metadata": {}
        }
      ],
      "source": [
        "import matplotlib.pyplot as plt\n",
        "from sklearn.decomposition import PCA\n",
        "from mpl_toolkits.mplot3d import Axes3D\n",
        "\n",
        "words = ['king', 'queen', 'man', 'woman', 'apple', 'orange', 'mango', 'grape', 'cricket', 'football', 'tennis']\n",
        "\n",
        "word_vecs = []\n",
        "\n",
        "for word in words:\n",
        "  word_vector = word_vectors[word]\n",
        "  word_vecs.append(word_vector)\n",
        "\n",
        "pca = PCA(n_components=3)\n",
        "result = pca.fit_transform(word_vecs)\n",
        "\n",
        "fig = plt.figure(figsize=(6, 6))\n",
        "ax = fig.add_subplot(projection='3d')\n",
        "ax.scatter(result[:, 0], result[:, 1], result[:, 2])\n",
        "\n",
        "for i, word in enumerate(words):\n",
        "    ax.text(result[i, 0], result[i, 1], result[i, 2], word)\n",
        "\n",
        "ax.set_xlabel('PCA Component 1')\n",
        "ax.set_ylabel('PCA Component 2')\n",
        "ax.set_zlabel('PCA Component 3')\n",
        "plt.show()"
      ]
    },
    {
      "cell_type": "code",
      "execution_count": 9,
      "metadata": {
        "id": "LL74_kENzLR5",
        "colab": {
          "base_uri": "https://localhost:8080/"
        },
        "outputId": "d670126a-3a04-49f7-9c32-969b2a310d72"
      },
      "outputs": [
        {
          "output_type": "stream",
          "name": "stdout",
          "text": [
            "\n",
            "Cluster 1: ['king', 'queen', 'man', 'woman', 'apple', 'orange']\n",
            "Cluster 2: ['breakfast', 'dinner']\n"
          ]
        },
        {
          "output_type": "stream",
          "name": "stderr",
          "text": [
            "/usr/local/lib/python3.10/dist-packages/sklearn/cluster/_kmeans.py:870: FutureWarning: The default value of `n_init` will change from 10 to 'auto' in 1.4. Set the value of `n_init` explicitly to suppress the warning\n",
            "  warnings.warn(\n"
          ]
        }
      ],
      "source": [
        "from sklearn.cluster import KMeans\n",
        "import numpy as np\n",
        "\n",
        "# List of words to cluster\n",
        "words = ['king', 'queen', 'man', 'woman', 'apple', 'orange', 'breakfast', 'dinner']\n",
        "word_vecs = [word_vectors[word] for word in words]\n",
        "\n",
        "# Perform K-means clustering\n",
        "kmeans = KMeans(n_clusters=2, random_state=0).fit(word_vecs)\n",
        "labels = kmeans.labels_\n",
        "\n",
        "# Print the clusters\n",
        "cluster_1 = [words[i] for i in range(len(words)) if labels[i] == 0]\n",
        "cluster_2 = [words[i] for i in range(len(words)) if labels[i] == 1]\n",
        "print(\"\\nCluster 1:\", cluster_1)\n",
        "print(\"Cluster 2:\", cluster_2)\n"
      ]
    },
    {
      "cell_type": "markdown",
      "metadata": {
        "id": "2ppi25kL8X0-"
      },
      "source": [
        "# Sentiment Analysis Problem"
      ]
    },
    {
      "cell_type": "code",
      "execution_count": 10,
      "metadata": {
        "id": "FB0lBGkQ828X",
        "colab": {
          "base_uri": "https://localhost:8080/"
        },
        "outputId": "2060da78-861d-4dd4-e129-a6093f0b2eb8"
      },
      "outputs": [
        {
          "output_type": "stream",
          "name": "stdout",
          "text": [
            "Drive already mounted at /content/drive; to attempt to forcibly remount, call drive.mount(\"/content/drive\", force_remount=True).\n"
          ]
        }
      ],
      "source": [
        "from google.colab import drive\n",
        "drive.mount('/content/drive')"
      ]
    },
    {
      "cell_type": "code",
      "execution_count": 11,
      "metadata": {
        "id": "4ROAIYAK8dJT",
        "colab": {
          "base_uri": "https://localhost:8080/",
          "height": 310
        },
        "outputId": "6721dee9-2f00-4141-f75c-5ab205df2f49"
      },
      "outputs": [
        {
          "output_type": "execute_result",
          "data": {
            "text/plain": [
              "       textID                                               text  \\\n",
              "0  cb774db0d1                I`d have responded, if I were going   \n",
              "1  549e992a42      Sooo SAD I will miss you here in San Diego!!!   \n",
              "2  088c60f138                          my boss is bullying me...   \n",
              "3  9642c003ef                     what interview! leave me alone   \n",
              "4  358bd9e861   Sons of ****, why couldn`t they put them on t...   \n",
              "\n",
              "                         selected_text sentiment Time of Tweet Age of User  \\\n",
              "0  I`d have responded, if I were going   neutral       morning        0-20   \n",
              "1                             Sooo SAD  negative          noon       21-30   \n",
              "2                          bullying me  negative         night       31-45   \n",
              "3                       leave me alone  negative       morning       46-60   \n",
              "4                        Sons of ****,  negative          noon       60-70   \n",
              "\n",
              "       Country  Population -2020  Land Area (Km²)  Density (P/Km²)  \n",
              "0  Afghanistan          38928346         652860.0               60  \n",
              "1      Albania           2877797          27400.0              105  \n",
              "2      Algeria          43851044        2381740.0               18  \n",
              "3      Andorra             77265            470.0              164  \n",
              "4       Angola          32866272        1246700.0               26  "
            ],
            "text/html": [
              "\n",
              "  <div id=\"df-bd20a7da-be3d-43b8-83ad-2dc6c1c5bd54\" class=\"colab-df-container\">\n",
              "    <div>\n",
              "<style scoped>\n",
              "    .dataframe tbody tr th:only-of-type {\n",
              "        vertical-align: middle;\n",
              "    }\n",
              "\n",
              "    .dataframe tbody tr th {\n",
              "        vertical-align: top;\n",
              "    }\n",
              "\n",
              "    .dataframe thead th {\n",
              "        text-align: right;\n",
              "    }\n",
              "</style>\n",
              "<table border=\"1\" class=\"dataframe\">\n",
              "  <thead>\n",
              "    <tr style=\"text-align: right;\">\n",
              "      <th></th>\n",
              "      <th>textID</th>\n",
              "      <th>text</th>\n",
              "      <th>selected_text</th>\n",
              "      <th>sentiment</th>\n",
              "      <th>Time of Tweet</th>\n",
              "      <th>Age of User</th>\n",
              "      <th>Country</th>\n",
              "      <th>Population -2020</th>\n",
              "      <th>Land Area (Km²)</th>\n",
              "      <th>Density (P/Km²)</th>\n",
              "    </tr>\n",
              "  </thead>\n",
              "  <tbody>\n",
              "    <tr>\n",
              "      <th>0</th>\n",
              "      <td>cb774db0d1</td>\n",
              "      <td>I`d have responded, if I were going</td>\n",
              "      <td>I`d have responded, if I were going</td>\n",
              "      <td>neutral</td>\n",
              "      <td>morning</td>\n",
              "      <td>0-20</td>\n",
              "      <td>Afghanistan</td>\n",
              "      <td>38928346</td>\n",
              "      <td>652860.0</td>\n",
              "      <td>60</td>\n",
              "    </tr>\n",
              "    <tr>\n",
              "      <th>1</th>\n",
              "      <td>549e992a42</td>\n",
              "      <td>Sooo SAD I will miss you here in San Diego!!!</td>\n",
              "      <td>Sooo SAD</td>\n",
              "      <td>negative</td>\n",
              "      <td>noon</td>\n",
              "      <td>21-30</td>\n",
              "      <td>Albania</td>\n",
              "      <td>2877797</td>\n",
              "      <td>27400.0</td>\n",
              "      <td>105</td>\n",
              "    </tr>\n",
              "    <tr>\n",
              "      <th>2</th>\n",
              "      <td>088c60f138</td>\n",
              "      <td>my boss is bullying me...</td>\n",
              "      <td>bullying me</td>\n",
              "      <td>negative</td>\n",
              "      <td>night</td>\n",
              "      <td>31-45</td>\n",
              "      <td>Algeria</td>\n",
              "      <td>43851044</td>\n",
              "      <td>2381740.0</td>\n",
              "      <td>18</td>\n",
              "    </tr>\n",
              "    <tr>\n",
              "      <th>3</th>\n",
              "      <td>9642c003ef</td>\n",
              "      <td>what interview! leave me alone</td>\n",
              "      <td>leave me alone</td>\n",
              "      <td>negative</td>\n",
              "      <td>morning</td>\n",
              "      <td>46-60</td>\n",
              "      <td>Andorra</td>\n",
              "      <td>77265</td>\n",
              "      <td>470.0</td>\n",
              "      <td>164</td>\n",
              "    </tr>\n",
              "    <tr>\n",
              "      <th>4</th>\n",
              "      <td>358bd9e861</td>\n",
              "      <td>Sons of ****, why couldn`t they put them on t...</td>\n",
              "      <td>Sons of ****,</td>\n",
              "      <td>negative</td>\n",
              "      <td>noon</td>\n",
              "      <td>60-70</td>\n",
              "      <td>Angola</td>\n",
              "      <td>32866272</td>\n",
              "      <td>1246700.0</td>\n",
              "      <td>26</td>\n",
              "    </tr>\n",
              "  </tbody>\n",
              "</table>\n",
              "</div>\n",
              "    <div class=\"colab-df-buttons\">\n",
              "\n",
              "  <div class=\"colab-df-container\">\n",
              "    <button class=\"colab-df-convert\" onclick=\"convertToInteractive('df-bd20a7da-be3d-43b8-83ad-2dc6c1c5bd54')\"\n",
              "            title=\"Convert this dataframe to an interactive table.\"\n",
              "            style=\"display:none;\">\n",
              "\n",
              "  <svg xmlns=\"http://www.w3.org/2000/svg\" height=\"24px\" viewBox=\"0 -960 960 960\">\n",
              "    <path d=\"M120-120v-720h720v720H120Zm60-500h600v-160H180v160Zm220 220h160v-160H400v160Zm0 220h160v-160H400v160ZM180-400h160v-160H180v160Zm440 0h160v-160H620v160ZM180-180h160v-160H180v160Zm440 0h160v-160H620v160Z\"/>\n",
              "  </svg>\n",
              "    </button>\n",
              "\n",
              "  <style>\n",
              "    .colab-df-container {\n",
              "      display:flex;\n",
              "      gap: 12px;\n",
              "    }\n",
              "\n",
              "    .colab-df-convert {\n",
              "      background-color: #E8F0FE;\n",
              "      border: none;\n",
              "      border-radius: 50%;\n",
              "      cursor: pointer;\n",
              "      display: none;\n",
              "      fill: #1967D2;\n",
              "      height: 32px;\n",
              "      padding: 0 0 0 0;\n",
              "      width: 32px;\n",
              "    }\n",
              "\n",
              "    .colab-df-convert:hover {\n",
              "      background-color: #E2EBFA;\n",
              "      box-shadow: 0px 1px 2px rgba(60, 64, 67, 0.3), 0px 1px 3px 1px rgba(60, 64, 67, 0.15);\n",
              "      fill: #174EA6;\n",
              "    }\n",
              "\n",
              "    .colab-df-buttons div {\n",
              "      margin-bottom: 4px;\n",
              "    }\n",
              "\n",
              "    [theme=dark] .colab-df-convert {\n",
              "      background-color: #3B4455;\n",
              "      fill: #D2E3FC;\n",
              "    }\n",
              "\n",
              "    [theme=dark] .colab-df-convert:hover {\n",
              "      background-color: #434B5C;\n",
              "      box-shadow: 0px 1px 3px 1px rgba(0, 0, 0, 0.15);\n",
              "      filter: drop-shadow(0px 1px 2px rgba(0, 0, 0, 0.3));\n",
              "      fill: #FFFFFF;\n",
              "    }\n",
              "  </style>\n",
              "\n",
              "    <script>\n",
              "      const buttonEl =\n",
              "        document.querySelector('#df-bd20a7da-be3d-43b8-83ad-2dc6c1c5bd54 button.colab-df-convert');\n",
              "      buttonEl.style.display =\n",
              "        google.colab.kernel.accessAllowed ? 'block' : 'none';\n",
              "\n",
              "      async function convertToInteractive(key) {\n",
              "        const element = document.querySelector('#df-bd20a7da-be3d-43b8-83ad-2dc6c1c5bd54');\n",
              "        const dataTable =\n",
              "          await google.colab.kernel.invokeFunction('convertToInteractive',\n",
              "                                                    [key], {});\n",
              "        if (!dataTable) return;\n",
              "\n",
              "        const docLinkHtml = 'Like what you see? Visit the ' +\n",
              "          '<a target=\"_blank\" href=https://colab.research.google.com/notebooks/data_table.ipynb>data table notebook</a>'\n",
              "          + ' to learn more about interactive tables.';\n",
              "        element.innerHTML = '';\n",
              "        dataTable['output_type'] = 'display_data';\n",
              "        await google.colab.output.renderOutput(dataTable, element);\n",
              "        const docLink = document.createElement('div');\n",
              "        docLink.innerHTML = docLinkHtml;\n",
              "        element.appendChild(docLink);\n",
              "      }\n",
              "    </script>\n",
              "  </div>\n",
              "\n",
              "\n",
              "<div id=\"df-2dde093e-3f65-4ed9-8c03-9cee07439f65\">\n",
              "  <button class=\"colab-df-quickchart\" onclick=\"quickchart('df-2dde093e-3f65-4ed9-8c03-9cee07439f65')\"\n",
              "            title=\"Suggest charts\"\n",
              "            style=\"display:none;\">\n",
              "\n",
              "<svg xmlns=\"http://www.w3.org/2000/svg\" height=\"24px\"viewBox=\"0 0 24 24\"\n",
              "     width=\"24px\">\n",
              "    <g>\n",
              "        <path d=\"M19 3H5c-1.1 0-2 .9-2 2v14c0 1.1.9 2 2 2h14c1.1 0 2-.9 2-2V5c0-1.1-.9-2-2-2zM9 17H7v-7h2v7zm4 0h-2V7h2v10zm4 0h-2v-4h2v4z\"/>\n",
              "    </g>\n",
              "</svg>\n",
              "  </button>\n",
              "\n",
              "<style>\n",
              "  .colab-df-quickchart {\n",
              "      --bg-color: #E8F0FE;\n",
              "      --fill-color: #1967D2;\n",
              "      --hover-bg-color: #E2EBFA;\n",
              "      --hover-fill-color: #174EA6;\n",
              "      --disabled-fill-color: #AAA;\n",
              "      --disabled-bg-color: #DDD;\n",
              "  }\n",
              "\n",
              "  [theme=dark] .colab-df-quickchart {\n",
              "      --bg-color: #3B4455;\n",
              "      --fill-color: #D2E3FC;\n",
              "      --hover-bg-color: #434B5C;\n",
              "      --hover-fill-color: #FFFFFF;\n",
              "      --disabled-bg-color: #3B4455;\n",
              "      --disabled-fill-color: #666;\n",
              "  }\n",
              "\n",
              "  .colab-df-quickchart {\n",
              "    background-color: var(--bg-color);\n",
              "    border: none;\n",
              "    border-radius: 50%;\n",
              "    cursor: pointer;\n",
              "    display: none;\n",
              "    fill: var(--fill-color);\n",
              "    height: 32px;\n",
              "    padding: 0;\n",
              "    width: 32px;\n",
              "  }\n",
              "\n",
              "  .colab-df-quickchart:hover {\n",
              "    background-color: var(--hover-bg-color);\n",
              "    box-shadow: 0 1px 2px rgba(60, 64, 67, 0.3), 0 1px 3px 1px rgba(60, 64, 67, 0.15);\n",
              "    fill: var(--button-hover-fill-color);\n",
              "  }\n",
              "\n",
              "  .colab-df-quickchart-complete:disabled,\n",
              "  .colab-df-quickchart-complete:disabled:hover {\n",
              "    background-color: var(--disabled-bg-color);\n",
              "    fill: var(--disabled-fill-color);\n",
              "    box-shadow: none;\n",
              "  }\n",
              "\n",
              "  .colab-df-spinner {\n",
              "    border: 2px solid var(--fill-color);\n",
              "    border-color: transparent;\n",
              "    border-bottom-color: var(--fill-color);\n",
              "    animation:\n",
              "      spin 1s steps(1) infinite;\n",
              "  }\n",
              "\n",
              "  @keyframes spin {\n",
              "    0% {\n",
              "      border-color: transparent;\n",
              "      border-bottom-color: var(--fill-color);\n",
              "      border-left-color: var(--fill-color);\n",
              "    }\n",
              "    20% {\n",
              "      border-color: transparent;\n",
              "      border-left-color: var(--fill-color);\n",
              "      border-top-color: var(--fill-color);\n",
              "    }\n",
              "    30% {\n",
              "      border-color: transparent;\n",
              "      border-left-color: var(--fill-color);\n",
              "      border-top-color: var(--fill-color);\n",
              "      border-right-color: var(--fill-color);\n",
              "    }\n",
              "    40% {\n",
              "      border-color: transparent;\n",
              "      border-right-color: var(--fill-color);\n",
              "      border-top-color: var(--fill-color);\n",
              "    }\n",
              "    60% {\n",
              "      border-color: transparent;\n",
              "      border-right-color: var(--fill-color);\n",
              "    }\n",
              "    80% {\n",
              "      border-color: transparent;\n",
              "      border-right-color: var(--fill-color);\n",
              "      border-bottom-color: var(--fill-color);\n",
              "    }\n",
              "    90% {\n",
              "      border-color: transparent;\n",
              "      border-bottom-color: var(--fill-color);\n",
              "    }\n",
              "  }\n",
              "</style>\n",
              "\n",
              "  <script>\n",
              "    async function quickchart(key) {\n",
              "      const quickchartButtonEl =\n",
              "        document.querySelector('#' + key + ' button');\n",
              "      quickchartButtonEl.disabled = true;  // To prevent multiple clicks.\n",
              "      quickchartButtonEl.classList.add('colab-df-spinner');\n",
              "      try {\n",
              "        const charts = await google.colab.kernel.invokeFunction(\n",
              "            'suggestCharts', [key], {});\n",
              "      } catch (error) {\n",
              "        console.error('Error during call to suggestCharts:', error);\n",
              "      }\n",
              "      quickchartButtonEl.classList.remove('colab-df-spinner');\n",
              "      quickchartButtonEl.classList.add('colab-df-quickchart-complete');\n",
              "    }\n",
              "    (() => {\n",
              "      let quickchartButtonEl =\n",
              "        document.querySelector('#df-2dde093e-3f65-4ed9-8c03-9cee07439f65 button');\n",
              "      quickchartButtonEl.style.display =\n",
              "        google.colab.kernel.accessAllowed ? 'block' : 'none';\n",
              "    })();\n",
              "  </script>\n",
              "</div>\n",
              "\n",
              "    </div>\n",
              "  </div>\n"
            ],
            "application/vnd.google.colaboratory.intrinsic+json": {
              "type": "dataframe",
              "variable_name": "dataset",
              "summary": "{\n  \"name\": \"dataset\",\n  \"rows\": 27481,\n  \"fields\": [\n    {\n      \"column\": \"textID\",\n      \"properties\": {\n        \"dtype\": \"string\",\n        \"num_unique_values\": 27481,\n        \"samples\": [\n          \"a7f72a928a\",\n          \"ef42dee96c\",\n          \"07d17131b1\"\n        ],\n        \"semantic_type\": \"\",\n        \"description\": \"\"\n      }\n    },\n    {\n      \"column\": \"text\",\n      \"properties\": {\n        \"dtype\": \"string\",\n        \"num_unique_values\": 27480,\n        \"samples\": [\n          \" Enjoy! Family trumps everything\",\n          \" --of them kinda turns me off of it all.  And then I buy more of them and dig a deeper hole, etc. ;;\",\n          \"Clive it`s my birthday pat me  http://apps.facebook.com/dogbook/profile/view/6386106\"\n        ],\n        \"semantic_type\": \"\",\n        \"description\": \"\"\n      }\n    },\n    {\n      \"column\": \"selected_text\",\n      \"properties\": {\n        \"dtype\": \"string\",\n        \"num_unique_values\": 22430,\n        \"samples\": [\n          \"that is why I drive a (teeny tiny) honda civic\",\n          \"Sorry...but, I bet they aren`t that bad...\",\n          \"yummy\"\n        ],\n        \"semantic_type\": \"\",\n        \"description\": \"\"\n      }\n    },\n    {\n      \"column\": \"sentiment\",\n      \"properties\": {\n        \"dtype\": \"category\",\n        \"num_unique_values\": 3,\n        \"samples\": [\n          \"neutral\",\n          \"negative\",\n          \"positive\"\n        ],\n        \"semantic_type\": \"\",\n        \"description\": \"\"\n      }\n    },\n    {\n      \"column\": \"Time of Tweet\",\n      \"properties\": {\n        \"dtype\": \"category\",\n        \"num_unique_values\": 3,\n        \"samples\": [\n          \"morning\",\n          \"noon\",\n          \"night\"\n        ],\n        \"semantic_type\": \"\",\n        \"description\": \"\"\n      }\n    },\n    {\n      \"column\": \"Age of User\",\n      \"properties\": {\n        \"dtype\": \"category\",\n        \"num_unique_values\": 6,\n        \"samples\": [\n          \"0-20\",\n          \"21-30\",\n          \"70-100\"\n        ],\n        \"semantic_type\": \"\",\n        \"description\": \"\"\n      }\n    },\n    {\n      \"column\": \"Country\",\n      \"properties\": {\n        \"dtype\": \"category\",\n        \"num_unique_values\": 195,\n        \"samples\": [\n          \"Philippines\",\n          \"Belgium\",\n          \"Sierra Leone\"\n        ],\n        \"semantic_type\": \"\",\n        \"description\": \"\"\n      }\n    },\n    {\n      \"column\": \"Population -2020\",\n      \"properties\": {\n        \"dtype\": \"number\",\n        \"std\": 150494590,\n        \"min\": 801,\n        \"max\": 1439323776,\n        \"num_unique_values\": 195,\n        \"samples\": [\n          109581078,\n          11589623,\n          7976983\n        ],\n        \"semantic_type\": \"\",\n        \"description\": \"\"\n      }\n    },\n    {\n      \"column\": \"Land Area (Km\\u00b2)\",\n      \"properties\": {\n        \"dtype\": \"number\",\n        \"std\": 1807424.6900064738,\n        \"min\": 0.0,\n        \"max\": 16376870.0,\n        \"num_unique_values\": 193,\n        \"samples\": [\n          2267050.0,\n          1280000.0,\n          100250.0\n        ],\n        \"semantic_type\": \"\",\n        \"description\": \"\"\n      }\n    },\n    {\n      \"column\": \"Density (P/Km\\u00b2)\",\n      \"properties\": {\n        \"dtype\": \"number\",\n        \"std\": 2013,\n        \"min\": 2,\n        \"max\": 26337,\n        \"num_unique_values\": 136,\n        \"samples\": [\n          400,\n          71,\n          331\n        ],\n        \"semantic_type\": \"\",\n        \"description\": \"\"\n      }\n    }\n  ]\n}"
            }
          },
          "metadata": {},
          "execution_count": 11
        }
      ],
      "source": [
        "import pandas as pd\n",
        "from sklearn.model_selection import train_test_split\n",
        "\n",
        "dataset = pd.read_csv('/content/drive/MyDrive/train1.csv', encoding='latin-1')\n",
        "dataset.head()"
      ]
    },
    {
      "cell_type": "code",
      "source": [
        "dataset = dataset[['text', 'sentiment']]\n",
        "dataset.info()"
      ],
      "metadata": {
        "colab": {
          "base_uri": "https://localhost:8080/"
        },
        "id": "jr1FDxx0L-Ti",
        "outputId": "de61f85f-8134-4688-bf99-2b3c85734779"
      },
      "execution_count": 12,
      "outputs": [
        {
          "output_type": "stream",
          "name": "stdout",
          "text": [
            "<class 'pandas.core.frame.DataFrame'>\n",
            "RangeIndex: 27481 entries, 0 to 27480\n",
            "Data columns (total 2 columns):\n",
            " #   Column     Non-Null Count  Dtype \n",
            "---  ------     --------------  ----- \n",
            " 0   text       27480 non-null  object\n",
            " 1   sentiment  27481 non-null  object\n",
            "dtypes: object(2)\n",
            "memory usage: 429.5+ KB\n"
          ]
        }
      ]
    },
    {
      "cell_type": "code",
      "source": [
        "dataset = dataset.dropna()\n",
        "dataset.info()"
      ],
      "metadata": {
        "colab": {
          "base_uri": "https://localhost:8080/"
        },
        "id": "im5XKvU7MAy2",
        "outputId": "a1f39753-793d-4348-fd6d-b4f3eaa6c59e"
      },
      "execution_count": 13,
      "outputs": [
        {
          "output_type": "stream",
          "name": "stdout",
          "text": [
            "<class 'pandas.core.frame.DataFrame'>\n",
            "Index: 27480 entries, 0 to 27480\n",
            "Data columns (total 2 columns):\n",
            " #   Column     Non-Null Count  Dtype \n",
            "---  ------     --------------  ----- \n",
            " 0   text       27480 non-null  object\n",
            " 1   sentiment  27480 non-null  object\n",
            "dtypes: object(2)\n",
            "memory usage: 644.1+ KB\n"
          ]
        }
      ]
    },
    {
      "cell_type": "code",
      "source": [
        "dataset.describe()"
      ],
      "metadata": {
        "colab": {
          "base_uri": "https://localhost:8080/",
          "height": 175
        },
        "id": "lmDTcvkQNtlZ",
        "outputId": "6c393810-2468-451f-f14a-8752d5520f9a"
      },
      "execution_count": 14,
      "outputs": [
        {
          "output_type": "execute_result",
          "data": {
            "text/plain": [
              "                                        text sentiment\n",
              "count                                  27480     27480\n",
              "unique                                 27480         3\n",
              "top      I`d have responded, if I were going   neutral\n",
              "freq                                       1     11117"
            ],
            "text/html": [
              "\n",
              "  <div id=\"df-c70f5d01-4777-4ee4-9402-a707bbe43811\" class=\"colab-df-container\">\n",
              "    <div>\n",
              "<style scoped>\n",
              "    .dataframe tbody tr th:only-of-type {\n",
              "        vertical-align: middle;\n",
              "    }\n",
              "\n",
              "    .dataframe tbody tr th {\n",
              "        vertical-align: top;\n",
              "    }\n",
              "\n",
              "    .dataframe thead th {\n",
              "        text-align: right;\n",
              "    }\n",
              "</style>\n",
              "<table border=\"1\" class=\"dataframe\">\n",
              "  <thead>\n",
              "    <tr style=\"text-align: right;\">\n",
              "      <th></th>\n",
              "      <th>text</th>\n",
              "      <th>sentiment</th>\n",
              "    </tr>\n",
              "  </thead>\n",
              "  <tbody>\n",
              "    <tr>\n",
              "      <th>count</th>\n",
              "      <td>27480</td>\n",
              "      <td>27480</td>\n",
              "    </tr>\n",
              "    <tr>\n",
              "      <th>unique</th>\n",
              "      <td>27480</td>\n",
              "      <td>3</td>\n",
              "    </tr>\n",
              "    <tr>\n",
              "      <th>top</th>\n",
              "      <td>I`d have responded, if I were going</td>\n",
              "      <td>neutral</td>\n",
              "    </tr>\n",
              "    <tr>\n",
              "      <th>freq</th>\n",
              "      <td>1</td>\n",
              "      <td>11117</td>\n",
              "    </tr>\n",
              "  </tbody>\n",
              "</table>\n",
              "</div>\n",
              "    <div class=\"colab-df-buttons\">\n",
              "\n",
              "  <div class=\"colab-df-container\">\n",
              "    <button class=\"colab-df-convert\" onclick=\"convertToInteractive('df-c70f5d01-4777-4ee4-9402-a707bbe43811')\"\n",
              "            title=\"Convert this dataframe to an interactive table.\"\n",
              "            style=\"display:none;\">\n",
              "\n",
              "  <svg xmlns=\"http://www.w3.org/2000/svg\" height=\"24px\" viewBox=\"0 -960 960 960\">\n",
              "    <path d=\"M120-120v-720h720v720H120Zm60-500h600v-160H180v160Zm220 220h160v-160H400v160Zm0 220h160v-160H400v160ZM180-400h160v-160H180v160Zm440 0h160v-160H620v160ZM180-180h160v-160H180v160Zm440 0h160v-160H620v160Z\"/>\n",
              "  </svg>\n",
              "    </button>\n",
              "\n",
              "  <style>\n",
              "    .colab-df-container {\n",
              "      display:flex;\n",
              "      gap: 12px;\n",
              "    }\n",
              "\n",
              "    .colab-df-convert {\n",
              "      background-color: #E8F0FE;\n",
              "      border: none;\n",
              "      border-radius: 50%;\n",
              "      cursor: pointer;\n",
              "      display: none;\n",
              "      fill: #1967D2;\n",
              "      height: 32px;\n",
              "      padding: 0 0 0 0;\n",
              "      width: 32px;\n",
              "    }\n",
              "\n",
              "    .colab-df-convert:hover {\n",
              "      background-color: #E2EBFA;\n",
              "      box-shadow: 0px 1px 2px rgba(60, 64, 67, 0.3), 0px 1px 3px 1px rgba(60, 64, 67, 0.15);\n",
              "      fill: #174EA6;\n",
              "    }\n",
              "\n",
              "    .colab-df-buttons div {\n",
              "      margin-bottom: 4px;\n",
              "    }\n",
              "\n",
              "    [theme=dark] .colab-df-convert {\n",
              "      background-color: #3B4455;\n",
              "      fill: #D2E3FC;\n",
              "    }\n",
              "\n",
              "    [theme=dark] .colab-df-convert:hover {\n",
              "      background-color: #434B5C;\n",
              "      box-shadow: 0px 1px 3px 1px rgba(0, 0, 0, 0.15);\n",
              "      filter: drop-shadow(0px 1px 2px rgba(0, 0, 0, 0.3));\n",
              "      fill: #FFFFFF;\n",
              "    }\n",
              "  </style>\n",
              "\n",
              "    <script>\n",
              "      const buttonEl =\n",
              "        document.querySelector('#df-c70f5d01-4777-4ee4-9402-a707bbe43811 button.colab-df-convert');\n",
              "      buttonEl.style.display =\n",
              "        google.colab.kernel.accessAllowed ? 'block' : 'none';\n",
              "\n",
              "      async function convertToInteractive(key) {\n",
              "        const element = document.querySelector('#df-c70f5d01-4777-4ee4-9402-a707bbe43811');\n",
              "        const dataTable =\n",
              "          await google.colab.kernel.invokeFunction('convertToInteractive',\n",
              "                                                    [key], {});\n",
              "        if (!dataTable) return;\n",
              "\n",
              "        const docLinkHtml = 'Like what you see? Visit the ' +\n",
              "          '<a target=\"_blank\" href=https://colab.research.google.com/notebooks/data_table.ipynb>data table notebook</a>'\n",
              "          + ' to learn more about interactive tables.';\n",
              "        element.innerHTML = '';\n",
              "        dataTable['output_type'] = 'display_data';\n",
              "        await google.colab.output.renderOutput(dataTable, element);\n",
              "        const docLink = document.createElement('div');\n",
              "        docLink.innerHTML = docLinkHtml;\n",
              "        element.appendChild(docLink);\n",
              "      }\n",
              "    </script>\n",
              "  </div>\n",
              "\n",
              "\n",
              "<div id=\"df-f61dcf72-2ed5-4ccd-a778-7bc7be896c4e\">\n",
              "  <button class=\"colab-df-quickchart\" onclick=\"quickchart('df-f61dcf72-2ed5-4ccd-a778-7bc7be896c4e')\"\n",
              "            title=\"Suggest charts\"\n",
              "            style=\"display:none;\">\n",
              "\n",
              "<svg xmlns=\"http://www.w3.org/2000/svg\" height=\"24px\"viewBox=\"0 0 24 24\"\n",
              "     width=\"24px\">\n",
              "    <g>\n",
              "        <path d=\"M19 3H5c-1.1 0-2 .9-2 2v14c0 1.1.9 2 2 2h14c1.1 0 2-.9 2-2V5c0-1.1-.9-2-2-2zM9 17H7v-7h2v7zm4 0h-2V7h2v10zm4 0h-2v-4h2v4z\"/>\n",
              "    </g>\n",
              "</svg>\n",
              "  </button>\n",
              "\n",
              "<style>\n",
              "  .colab-df-quickchart {\n",
              "      --bg-color: #E8F0FE;\n",
              "      --fill-color: #1967D2;\n",
              "      --hover-bg-color: #E2EBFA;\n",
              "      --hover-fill-color: #174EA6;\n",
              "      --disabled-fill-color: #AAA;\n",
              "      --disabled-bg-color: #DDD;\n",
              "  }\n",
              "\n",
              "  [theme=dark] .colab-df-quickchart {\n",
              "      --bg-color: #3B4455;\n",
              "      --fill-color: #D2E3FC;\n",
              "      --hover-bg-color: #434B5C;\n",
              "      --hover-fill-color: #FFFFFF;\n",
              "      --disabled-bg-color: #3B4455;\n",
              "      --disabled-fill-color: #666;\n",
              "  }\n",
              "\n",
              "  .colab-df-quickchart {\n",
              "    background-color: var(--bg-color);\n",
              "    border: none;\n",
              "    border-radius: 50%;\n",
              "    cursor: pointer;\n",
              "    display: none;\n",
              "    fill: var(--fill-color);\n",
              "    height: 32px;\n",
              "    padding: 0;\n",
              "    width: 32px;\n",
              "  }\n",
              "\n",
              "  .colab-df-quickchart:hover {\n",
              "    background-color: var(--hover-bg-color);\n",
              "    box-shadow: 0 1px 2px rgba(60, 64, 67, 0.3), 0 1px 3px 1px rgba(60, 64, 67, 0.15);\n",
              "    fill: var(--button-hover-fill-color);\n",
              "  }\n",
              "\n",
              "  .colab-df-quickchart-complete:disabled,\n",
              "  .colab-df-quickchart-complete:disabled:hover {\n",
              "    background-color: var(--disabled-bg-color);\n",
              "    fill: var(--disabled-fill-color);\n",
              "    box-shadow: none;\n",
              "  }\n",
              "\n",
              "  .colab-df-spinner {\n",
              "    border: 2px solid var(--fill-color);\n",
              "    border-color: transparent;\n",
              "    border-bottom-color: var(--fill-color);\n",
              "    animation:\n",
              "      spin 1s steps(1) infinite;\n",
              "  }\n",
              "\n",
              "  @keyframes spin {\n",
              "    0% {\n",
              "      border-color: transparent;\n",
              "      border-bottom-color: var(--fill-color);\n",
              "      border-left-color: var(--fill-color);\n",
              "    }\n",
              "    20% {\n",
              "      border-color: transparent;\n",
              "      border-left-color: var(--fill-color);\n",
              "      border-top-color: var(--fill-color);\n",
              "    }\n",
              "    30% {\n",
              "      border-color: transparent;\n",
              "      border-left-color: var(--fill-color);\n",
              "      border-top-color: var(--fill-color);\n",
              "      border-right-color: var(--fill-color);\n",
              "    }\n",
              "    40% {\n",
              "      border-color: transparent;\n",
              "      border-right-color: var(--fill-color);\n",
              "      border-top-color: var(--fill-color);\n",
              "    }\n",
              "    60% {\n",
              "      border-color: transparent;\n",
              "      border-right-color: var(--fill-color);\n",
              "    }\n",
              "    80% {\n",
              "      border-color: transparent;\n",
              "      border-right-color: var(--fill-color);\n",
              "      border-bottom-color: var(--fill-color);\n",
              "    }\n",
              "    90% {\n",
              "      border-color: transparent;\n",
              "      border-bottom-color: var(--fill-color);\n",
              "    }\n",
              "  }\n",
              "</style>\n",
              "\n",
              "  <script>\n",
              "    async function quickchart(key) {\n",
              "      const quickchartButtonEl =\n",
              "        document.querySelector('#' + key + ' button');\n",
              "      quickchartButtonEl.disabled = true;  // To prevent multiple clicks.\n",
              "      quickchartButtonEl.classList.add('colab-df-spinner');\n",
              "      try {\n",
              "        const charts = await google.colab.kernel.invokeFunction(\n",
              "            'suggestCharts', [key], {});\n",
              "      } catch (error) {\n",
              "        console.error('Error during call to suggestCharts:', error);\n",
              "      }\n",
              "      quickchartButtonEl.classList.remove('colab-df-spinner');\n",
              "      quickchartButtonEl.classList.add('colab-df-quickchart-complete');\n",
              "    }\n",
              "    (() => {\n",
              "      let quickchartButtonEl =\n",
              "        document.querySelector('#df-f61dcf72-2ed5-4ccd-a778-7bc7be896c4e button');\n",
              "      quickchartButtonEl.style.display =\n",
              "        google.colab.kernel.accessAllowed ? 'block' : 'none';\n",
              "    })();\n",
              "  </script>\n",
              "</div>\n",
              "\n",
              "    </div>\n",
              "  </div>\n"
            ],
            "application/vnd.google.colaboratory.intrinsic+json": {
              "type": "dataframe",
              "summary": "{\n  \"name\": \"dataset\",\n  \"rows\": 4,\n  \"fields\": [\n    {\n      \"column\": \"text\",\n      \"properties\": {\n        \"dtype\": \"string\",\n        \"num_unique_values\": 3,\n        \"samples\": [\n          \"27480\",\n          \" I`d have responded, if I were going\",\n          \"1\"\n        ],\n        \"semantic_type\": \"\",\n        \"description\": \"\"\n      }\n    },\n    {\n      \"column\": \"sentiment\",\n      \"properties\": {\n        \"dtype\": \"string\",\n        \"num_unique_values\": 4,\n        \"samples\": [\n          3,\n          \"11117\",\n          \"27480\"\n        ],\n        \"semantic_type\": \"\",\n        \"description\": \"\"\n      }\n    }\n  ]\n}"
            }
          },
          "metadata": {},
          "execution_count": 14
        }
      ]
    },
    {
      "cell_type": "code",
      "source": [
        "X = dataset['text']\n",
        "y = dataset['sentiment']\n",
        "X,y"
      ],
      "metadata": {
        "colab": {
          "base_uri": "https://localhost:8080/"
        },
        "id": "bm1KmnBdOC55",
        "outputId": "492d4ba3-00ab-427c-ef30-5228e2848596"
      },
      "execution_count": 15,
      "outputs": [
        {
          "output_type": "execute_result",
          "data": {
            "text/plain": [
              "(0                      I`d have responded, if I were going\n",
              " 1            Sooo SAD I will miss you here in San Diego!!!\n",
              " 2                                my boss is bullying me...\n",
              " 3                           what interview! leave me alone\n",
              " 4         Sons of ****, why couldn`t they put them on t...\n",
              "                                ...                        \n",
              " 27476     wish we could come see u on Denver  husband l...\n",
              " 27477     I`ve wondered about rake to.  The client has ...\n",
              " 27478     Yay good for both of you. Enjoy the break - y...\n",
              " 27479                           But it was worth it  ****.\n",
              " 27480       All this flirting going on - The ATG smiles...\n",
              " Name: text, Length: 27480, dtype: object,\n",
              " 0         neutral\n",
              " 1        negative\n",
              " 2        negative\n",
              " 3        negative\n",
              " 4        negative\n",
              "            ...   \n",
              " 27476    negative\n",
              " 27477    negative\n",
              " 27478    positive\n",
              " 27479    positive\n",
              " 27480     neutral\n",
              " Name: sentiment, Length: 27480, dtype: object)"
            ]
          },
          "metadata": {},
          "execution_count": 15
        }
      ]
    },
    {
      "cell_type": "code",
      "source": [
        "from sklearn.model_selection import train_test_split\n",
        "\n",
        "X_train, X_test, y_train, y_test = train_test_split(X, y, test_size=0.2, random_state=42)"
      ],
      "metadata": {
        "id": "HIlb9O4ZOd42"
      },
      "execution_count": 36,
      "outputs": []
    },
    {
      "cell_type": "code",
      "source": [
        "!pip install spacy\n",
        "!python -m spacy download en_core_web_sm"
      ],
      "metadata": {
        "colab": {
          "base_uri": "https://localhost:8080/"
        },
        "id": "2qWRGcCJOtWV",
        "outputId": "cbca3ec8-d81f-49db-9538-b146a5dcd6f0"
      },
      "execution_count": 17,
      "outputs": [
        {
          "output_type": "stream",
          "name": "stdout",
          "text": [
            "Requirement already satisfied: spacy in /usr/local/lib/python3.10/dist-packages (3.7.5)\n",
            "Requirement already satisfied: spacy-legacy<3.1.0,>=3.0.11 in /usr/local/lib/python3.10/dist-packages (from spacy) (3.0.12)\n",
            "Requirement already satisfied: spacy-loggers<2.0.0,>=1.0.0 in /usr/local/lib/python3.10/dist-packages (from spacy) (1.0.5)\n",
            "Requirement already satisfied: murmurhash<1.1.0,>=0.28.0 in /usr/local/lib/python3.10/dist-packages (from spacy) (1.0.10)\n",
            "Requirement already satisfied: cymem<2.1.0,>=2.0.2 in /usr/local/lib/python3.10/dist-packages (from spacy) (2.0.8)\n",
            "Requirement already satisfied: preshed<3.1.0,>=3.0.2 in /usr/local/lib/python3.10/dist-packages (from spacy) (3.0.9)\n",
            "Requirement already satisfied: thinc<8.3.0,>=8.2.2 in /usr/local/lib/python3.10/dist-packages (from spacy) (8.2.5)\n",
            "Requirement already satisfied: wasabi<1.2.0,>=0.9.1 in /usr/local/lib/python3.10/dist-packages (from spacy) (1.1.3)\n",
            "Requirement already satisfied: srsly<3.0.0,>=2.4.3 in /usr/local/lib/python3.10/dist-packages (from spacy) (2.4.8)\n",
            "Requirement already satisfied: catalogue<2.1.0,>=2.0.6 in /usr/local/lib/python3.10/dist-packages (from spacy) (2.0.10)\n",
            "Requirement already satisfied: weasel<0.5.0,>=0.1.0 in /usr/local/lib/python3.10/dist-packages (from spacy) (0.4.1)\n",
            "Requirement already satisfied: typer<1.0.0,>=0.3.0 in /usr/local/lib/python3.10/dist-packages (from spacy) (0.12.3)\n",
            "Requirement already satisfied: tqdm<5.0.0,>=4.38.0 in /usr/local/lib/python3.10/dist-packages (from spacy) (4.66.4)\n",
            "Requirement already satisfied: requests<3.0.0,>=2.13.0 in /usr/local/lib/python3.10/dist-packages (from spacy) (2.31.0)\n",
            "Requirement already satisfied: pydantic!=1.8,!=1.8.1,<3.0.0,>=1.7.4 in /usr/local/lib/python3.10/dist-packages (from spacy) (2.7.4)\n",
            "Requirement already satisfied: jinja2 in /usr/local/lib/python3.10/dist-packages (from spacy) (3.1.4)\n",
            "Requirement already satisfied: setuptools in /usr/local/lib/python3.10/dist-packages (from spacy) (67.7.2)\n",
            "Requirement already satisfied: packaging>=20.0 in /usr/local/lib/python3.10/dist-packages (from spacy) (24.1)\n",
            "Requirement already satisfied: langcodes<4.0.0,>=3.2.0 in /usr/local/lib/python3.10/dist-packages (from spacy) (3.4.0)\n",
            "Requirement already satisfied: numpy>=1.19.0 in /usr/local/lib/python3.10/dist-packages (from spacy) (1.25.2)\n",
            "Requirement already satisfied: language-data>=1.2 in /usr/local/lib/python3.10/dist-packages (from langcodes<4.0.0,>=3.2.0->spacy) (1.2.0)\n",
            "Requirement already satisfied: annotated-types>=0.4.0 in /usr/local/lib/python3.10/dist-packages (from pydantic!=1.8,!=1.8.1,<3.0.0,>=1.7.4->spacy) (0.7.0)\n",
            "Requirement already satisfied: pydantic-core==2.18.4 in /usr/local/lib/python3.10/dist-packages (from pydantic!=1.8,!=1.8.1,<3.0.0,>=1.7.4->spacy) (2.18.4)\n",
            "Requirement already satisfied: typing-extensions>=4.6.1 in /usr/local/lib/python3.10/dist-packages (from pydantic!=1.8,!=1.8.1,<3.0.0,>=1.7.4->spacy) (4.12.2)\n",
            "Requirement already satisfied: charset-normalizer<4,>=2 in /usr/local/lib/python3.10/dist-packages (from requests<3.0.0,>=2.13.0->spacy) (3.3.2)\n",
            "Requirement already satisfied: idna<4,>=2.5 in /usr/local/lib/python3.10/dist-packages (from requests<3.0.0,>=2.13.0->spacy) (3.7)\n",
            "Requirement already satisfied: urllib3<3,>=1.21.1 in /usr/local/lib/python3.10/dist-packages (from requests<3.0.0,>=2.13.0->spacy) (2.0.7)\n",
            "Requirement already satisfied: certifi>=2017.4.17 in /usr/local/lib/python3.10/dist-packages (from requests<3.0.0,>=2.13.0->spacy) (2024.6.2)\n",
            "Requirement already satisfied: blis<0.8.0,>=0.7.8 in /usr/local/lib/python3.10/dist-packages (from thinc<8.3.0,>=8.2.2->spacy) (0.7.11)\n",
            "Requirement already satisfied: confection<1.0.0,>=0.0.1 in /usr/local/lib/python3.10/dist-packages (from thinc<8.3.0,>=8.2.2->spacy) (0.1.5)\n",
            "Requirement already satisfied: click>=8.0.0 in /usr/local/lib/python3.10/dist-packages (from typer<1.0.0,>=0.3.0->spacy) (8.1.7)\n",
            "Requirement already satisfied: shellingham>=1.3.0 in /usr/local/lib/python3.10/dist-packages (from typer<1.0.0,>=0.3.0->spacy) (1.5.4)\n",
            "Requirement already satisfied: rich>=10.11.0 in /usr/local/lib/python3.10/dist-packages (from typer<1.0.0,>=0.3.0->spacy) (13.7.1)\n",
            "Requirement already satisfied: cloudpathlib<1.0.0,>=0.7.0 in /usr/local/lib/python3.10/dist-packages (from weasel<0.5.0,>=0.1.0->spacy) (0.18.1)\n",
            "Requirement already satisfied: smart-open<8.0.0,>=5.2.1 in /usr/local/lib/python3.10/dist-packages (from weasel<0.5.0,>=0.1.0->spacy) (7.0.4)\n",
            "Requirement already satisfied: MarkupSafe>=2.0 in /usr/local/lib/python3.10/dist-packages (from jinja2->spacy) (2.1.5)\n",
            "Requirement already satisfied: marisa-trie>=0.7.7 in /usr/local/lib/python3.10/dist-packages (from language-data>=1.2->langcodes<4.0.0,>=3.2.0->spacy) (1.2.0)\n",
            "Requirement already satisfied: markdown-it-py>=2.2.0 in /usr/local/lib/python3.10/dist-packages (from rich>=10.11.0->typer<1.0.0,>=0.3.0->spacy) (3.0.0)\n",
            "Requirement already satisfied: pygments<3.0.0,>=2.13.0 in /usr/local/lib/python3.10/dist-packages (from rich>=10.11.0->typer<1.0.0,>=0.3.0->spacy) (2.16.1)\n",
            "Requirement already satisfied: wrapt in /usr/local/lib/python3.10/dist-packages (from smart-open<8.0.0,>=5.2.1->weasel<0.5.0,>=0.1.0->spacy) (1.14.1)\n",
            "Requirement already satisfied: mdurl~=0.1 in /usr/local/lib/python3.10/dist-packages (from markdown-it-py>=2.2.0->rich>=10.11.0->typer<1.0.0,>=0.3.0->spacy) (0.1.2)\n",
            "Collecting en-core-web-sm==3.7.1\n",
            "  Downloading https://github.com/explosion/spacy-models/releases/download/en_core_web_sm-3.7.1/en_core_web_sm-3.7.1-py3-none-any.whl (12.8 MB)\n",
            "\u001b[2K     \u001b[90m━━━━━━━━━━━━━━━━━━━━━━━━━━━━━━━━━━━━━━━━\u001b[0m \u001b[32m12.8/12.8 MB\u001b[0m \u001b[31m73.3 MB/s\u001b[0m eta \u001b[36m0:00:00\u001b[0m\n",
            "\u001b[?25hRequirement already satisfied: spacy<3.8.0,>=3.7.2 in /usr/local/lib/python3.10/dist-packages (from en-core-web-sm==3.7.1) (3.7.5)\n",
            "Requirement already satisfied: spacy-legacy<3.1.0,>=3.0.11 in /usr/local/lib/python3.10/dist-packages (from spacy<3.8.0,>=3.7.2->en-core-web-sm==3.7.1) (3.0.12)\n",
            "Requirement already satisfied: spacy-loggers<2.0.0,>=1.0.0 in /usr/local/lib/python3.10/dist-packages (from spacy<3.8.0,>=3.7.2->en-core-web-sm==3.7.1) (1.0.5)\n",
            "Requirement already satisfied: murmurhash<1.1.0,>=0.28.0 in /usr/local/lib/python3.10/dist-packages (from spacy<3.8.0,>=3.7.2->en-core-web-sm==3.7.1) (1.0.10)\n",
            "Requirement already satisfied: cymem<2.1.0,>=2.0.2 in /usr/local/lib/python3.10/dist-packages (from spacy<3.8.0,>=3.7.2->en-core-web-sm==3.7.1) (2.0.8)\n",
            "Requirement already satisfied: preshed<3.1.0,>=3.0.2 in /usr/local/lib/python3.10/dist-packages (from spacy<3.8.0,>=3.7.2->en-core-web-sm==3.7.1) (3.0.9)\n",
            "Requirement already satisfied: thinc<8.3.0,>=8.2.2 in /usr/local/lib/python3.10/dist-packages (from spacy<3.8.0,>=3.7.2->en-core-web-sm==3.7.1) (8.2.5)\n",
            "Requirement already satisfied: wasabi<1.2.0,>=0.9.1 in /usr/local/lib/python3.10/dist-packages (from spacy<3.8.0,>=3.7.2->en-core-web-sm==3.7.1) (1.1.3)\n",
            "Requirement already satisfied: srsly<3.0.0,>=2.4.3 in /usr/local/lib/python3.10/dist-packages (from spacy<3.8.0,>=3.7.2->en-core-web-sm==3.7.1) (2.4.8)\n",
            "Requirement already satisfied: catalogue<2.1.0,>=2.0.6 in /usr/local/lib/python3.10/dist-packages (from spacy<3.8.0,>=3.7.2->en-core-web-sm==3.7.1) (2.0.10)\n",
            "Requirement already satisfied: weasel<0.5.0,>=0.1.0 in /usr/local/lib/python3.10/dist-packages (from spacy<3.8.0,>=3.7.2->en-core-web-sm==3.7.1) (0.4.1)\n",
            "Requirement already satisfied: typer<1.0.0,>=0.3.0 in /usr/local/lib/python3.10/dist-packages (from spacy<3.8.0,>=3.7.2->en-core-web-sm==3.7.1) (0.12.3)\n",
            "Requirement already satisfied: tqdm<5.0.0,>=4.38.0 in /usr/local/lib/python3.10/dist-packages (from spacy<3.8.0,>=3.7.2->en-core-web-sm==3.7.1) (4.66.4)\n",
            "Requirement already satisfied: requests<3.0.0,>=2.13.0 in /usr/local/lib/python3.10/dist-packages (from spacy<3.8.0,>=3.7.2->en-core-web-sm==3.7.1) (2.31.0)\n",
            "Requirement already satisfied: pydantic!=1.8,!=1.8.1,<3.0.0,>=1.7.4 in /usr/local/lib/python3.10/dist-packages (from spacy<3.8.0,>=3.7.2->en-core-web-sm==3.7.1) (2.7.4)\n",
            "Requirement already satisfied: jinja2 in /usr/local/lib/python3.10/dist-packages (from spacy<3.8.0,>=3.7.2->en-core-web-sm==3.7.1) (3.1.4)\n",
            "Requirement already satisfied: setuptools in /usr/local/lib/python3.10/dist-packages (from spacy<3.8.0,>=3.7.2->en-core-web-sm==3.7.1) (67.7.2)\n",
            "Requirement already satisfied: packaging>=20.0 in /usr/local/lib/python3.10/dist-packages (from spacy<3.8.0,>=3.7.2->en-core-web-sm==3.7.1) (24.1)\n",
            "Requirement already satisfied: langcodes<4.0.0,>=3.2.0 in /usr/local/lib/python3.10/dist-packages (from spacy<3.8.0,>=3.7.2->en-core-web-sm==3.7.1) (3.4.0)\n",
            "Requirement already satisfied: numpy>=1.19.0 in /usr/local/lib/python3.10/dist-packages (from spacy<3.8.0,>=3.7.2->en-core-web-sm==3.7.1) (1.25.2)\n",
            "Requirement already satisfied: language-data>=1.2 in /usr/local/lib/python3.10/dist-packages (from langcodes<4.0.0,>=3.2.0->spacy<3.8.0,>=3.7.2->en-core-web-sm==3.7.1) (1.2.0)\n",
            "Requirement already satisfied: annotated-types>=0.4.0 in /usr/local/lib/python3.10/dist-packages (from pydantic!=1.8,!=1.8.1,<3.0.0,>=1.7.4->spacy<3.8.0,>=3.7.2->en-core-web-sm==3.7.1) (0.7.0)\n",
            "Requirement already satisfied: pydantic-core==2.18.4 in /usr/local/lib/python3.10/dist-packages (from pydantic!=1.8,!=1.8.1,<3.0.0,>=1.7.4->spacy<3.8.0,>=3.7.2->en-core-web-sm==3.7.1) (2.18.4)\n",
            "Requirement already satisfied: typing-extensions>=4.6.1 in /usr/local/lib/python3.10/dist-packages (from pydantic!=1.8,!=1.8.1,<3.0.0,>=1.7.4->spacy<3.8.0,>=3.7.2->en-core-web-sm==3.7.1) (4.12.2)\n",
            "Requirement already satisfied: charset-normalizer<4,>=2 in /usr/local/lib/python3.10/dist-packages (from requests<3.0.0,>=2.13.0->spacy<3.8.0,>=3.7.2->en-core-web-sm==3.7.1) (3.3.2)\n",
            "Requirement already satisfied: idna<4,>=2.5 in /usr/local/lib/python3.10/dist-packages (from requests<3.0.0,>=2.13.0->spacy<3.8.0,>=3.7.2->en-core-web-sm==3.7.1) (3.7)\n",
            "Requirement already satisfied: urllib3<3,>=1.21.1 in /usr/local/lib/python3.10/dist-packages (from requests<3.0.0,>=2.13.0->spacy<3.8.0,>=3.7.2->en-core-web-sm==3.7.1) (2.0.7)\n",
            "Requirement already satisfied: certifi>=2017.4.17 in /usr/local/lib/python3.10/dist-packages (from requests<3.0.0,>=2.13.0->spacy<3.8.0,>=3.7.2->en-core-web-sm==3.7.1) (2024.6.2)\n",
            "Requirement already satisfied: blis<0.8.0,>=0.7.8 in /usr/local/lib/python3.10/dist-packages (from thinc<8.3.0,>=8.2.2->spacy<3.8.0,>=3.7.2->en-core-web-sm==3.7.1) (0.7.11)\n",
            "Requirement already satisfied: confection<1.0.0,>=0.0.1 in /usr/local/lib/python3.10/dist-packages (from thinc<8.3.0,>=8.2.2->spacy<3.8.0,>=3.7.2->en-core-web-sm==3.7.1) (0.1.5)\n",
            "Requirement already satisfied: click>=8.0.0 in /usr/local/lib/python3.10/dist-packages (from typer<1.0.0,>=0.3.0->spacy<3.8.0,>=3.7.2->en-core-web-sm==3.7.1) (8.1.7)\n",
            "Requirement already satisfied: shellingham>=1.3.0 in /usr/local/lib/python3.10/dist-packages (from typer<1.0.0,>=0.3.0->spacy<3.8.0,>=3.7.2->en-core-web-sm==3.7.1) (1.5.4)\n",
            "Requirement already satisfied: rich>=10.11.0 in /usr/local/lib/python3.10/dist-packages (from typer<1.0.0,>=0.3.0->spacy<3.8.0,>=3.7.2->en-core-web-sm==3.7.1) (13.7.1)\n",
            "Requirement already satisfied: cloudpathlib<1.0.0,>=0.7.0 in /usr/local/lib/python3.10/dist-packages (from weasel<0.5.0,>=0.1.0->spacy<3.8.0,>=3.7.2->en-core-web-sm==3.7.1) (0.18.1)\n",
            "Requirement already satisfied: smart-open<8.0.0,>=5.2.1 in /usr/local/lib/python3.10/dist-packages (from weasel<0.5.0,>=0.1.0->spacy<3.8.0,>=3.7.2->en-core-web-sm==3.7.1) (7.0.4)\n",
            "Requirement already satisfied: MarkupSafe>=2.0 in /usr/local/lib/python3.10/dist-packages (from jinja2->spacy<3.8.0,>=3.7.2->en-core-web-sm==3.7.1) (2.1.5)\n",
            "Requirement already satisfied: marisa-trie>=0.7.7 in /usr/local/lib/python3.10/dist-packages (from language-data>=1.2->langcodes<4.0.0,>=3.2.0->spacy<3.8.0,>=3.7.2->en-core-web-sm==3.7.1) (1.2.0)\n",
            "Requirement already satisfied: markdown-it-py>=2.2.0 in /usr/local/lib/python3.10/dist-packages (from rich>=10.11.0->typer<1.0.0,>=0.3.0->spacy<3.8.0,>=3.7.2->en-core-web-sm==3.7.1) (3.0.0)\n",
            "Requirement already satisfied: pygments<3.0.0,>=2.13.0 in /usr/local/lib/python3.10/dist-packages (from rich>=10.11.0->typer<1.0.0,>=0.3.0->spacy<3.8.0,>=3.7.2->en-core-web-sm==3.7.1) (2.16.1)\n",
            "Requirement already satisfied: wrapt in /usr/local/lib/python3.10/dist-packages (from smart-open<8.0.0,>=5.2.1->weasel<0.5.0,>=0.1.0->spacy<3.8.0,>=3.7.2->en-core-web-sm==3.7.1) (1.14.1)\n",
            "Requirement already satisfied: mdurl~=0.1 in /usr/local/lib/python3.10/dist-packages (from markdown-it-py>=2.2.0->rich>=10.11.0->typer<1.0.0,>=0.3.0->spacy<3.8.0,>=3.7.2->en-core-web-sm==3.7.1) (0.1.2)\n",
            "\u001b[38;5;2m✔ Download and installation successful\u001b[0m\n",
            "You can now load the package via spacy.load('en_core_web_sm')\n",
            "\u001b[38;5;3m⚠ Restart to reload dependencies\u001b[0m\n",
            "If you are in a Jupyter or Colab notebook, you may need to restart Python in\n",
            "order to load all the package's dependencies. You can do this by selecting the\n",
            "'Restart kernel' or 'Restart runtime' option.\n"
          ]
        }
      ]
    },
    {
      "cell_type": "code",
      "source": [
        "import spacy\n",
        "\n",
        "nlp = spacy.load(\"en_core_web_sm\")\n",
        "\n",
        "def dummy_preprocess_text(text):\n",
        "\n",
        "    doc = nlp(text)\n",
        "    tokens = []\n",
        "    for token in doc:\n",
        "        tokens.append(token)\n",
        "    print(f\"Tokens after tokenization: {[token.text for token in tokens]}\")\n",
        "\n",
        "    filtered_tokens = []\n",
        "    for token in tokens:\n",
        "        if token.is_alpha:\n",
        "            filtered_tokens.append(token.text.lower())\n",
        "    print(f\"Tokens after lowercase and punctuation removal: {filtered_tokens}\")\n",
        "\n",
        "    processed_text = ' '.join(filtered_tokens)\n",
        "\n",
        "    return processed_text\n",
        "\n",
        "import numpy as np\n",
        "\n",
        "def dummy_get_average_embedding(text):\n",
        "    print(f\"Original text: {text}\")\n",
        "\n",
        "    processed_text = dummy_preprocess_text(text)\n",
        "    print(f\"Processed text: {processed_text}\")\n",
        "\n",
        "    tokens = processed_text.split()\n",
        "    print(f\"Tokens after splitting: {tokens}\")\n",
        "\n",
        "    vectors = [word_vectors[token] for token in tokens if token in word_vectors]\n",
        "    print(f\"Number of valid vectors: {len(vectors)}\")\n",
        "\n",
        "    if vectors:\n",
        "        average_vector = np.mean(vectors, axis=0)\n",
        "    else:\n",
        "        average_vector = np.zeros(word_vectors.vector_size)\n",
        "\n",
        "    return average_vector\n",
        "\n",
        "example_text = \"Hello, how are you doing today?\"\n",
        "\n",
        "average_embedding = dummy_get_average_embedding(example_text)"
      ],
      "metadata": {
        "colab": {
          "base_uri": "https://localhost:8080/"
        },
        "id": "pIzMTlOcRn-O",
        "outputId": "faaf5416-2555-464b-caca-f4c3492fb666"
      },
      "execution_count": 18,
      "outputs": [
        {
          "output_type": "stream",
          "name": "stdout",
          "text": [
            "Original text: Hello, how are you doing today?\n",
            "Tokens after tokenization: ['Hello', ',', 'how', 'are', 'you', 'doing', 'today', '?']\n",
            "Tokens after lowercase and punctuation removal: ['hello', 'how', 'are', 'you', 'doing', 'today']\n",
            "Processed text: hello how are you doing today\n",
            "Tokens after splitting: ['hello', 'how', 'are', 'you', 'doing', 'today']\n",
            "Number of valid vectors: 6\n"
          ]
        }
      ]
    },
    {
      "cell_type": "code",
      "source": [
        "def preprocess_text(text):\n",
        "\n",
        "    doc = nlp(text)\n",
        "    tokens = [token for token in doc]\n",
        "\n",
        "    tokens = [token.text.lower() for token in tokens if token.is_alpha]\n",
        "\n",
        "    processed_text = ' '.join(tokens)\n",
        "\n",
        "    return processed_text"
      ],
      "metadata": {
        "id": "zHrA7qIRR1aI"
      },
      "execution_count": 19,
      "outputs": []
    },
    {
      "cell_type": "code",
      "source": [
        "import numpy as np\n",
        "\n",
        "def get_avg_embedding(text):\n",
        "\n",
        "  processed_text = preprocess_text(text)\n",
        "  tokens = processed_text.split()\n",
        "\n",
        "  vectors = [word_vectors[token] for token in tokens if token in word_vectors]\n",
        "\n",
        "  if vectors:\n",
        "    average_vector = np.mean(vectors, axis=0)\n",
        "  else:\n",
        "    average_vector = np.zeros(word_vectors.vector_size)\n",
        "\n",
        "  return average_vector\n",
        "\n",
        "X_train_embeddings = X_train.apply(get_avg_embedding)"
      ],
      "metadata": {
        "id": "ZAnvN7WHXAIw"
      },
      "execution_count": 20,
      "outputs": []
    },
    {
      "cell_type": "code",
      "source": [
        "X_train_embeddings = np.array(X_train_embeddings.tolist())"
      ],
      "metadata": {
        "id": "FpeHauNmWGYs"
      },
      "execution_count": 21,
      "outputs": []
    },
    {
      "cell_type": "code",
      "source": [
        "X_test_embeddings = X_test.apply(get_avg_embedding)\n",
        "X_test_embeddings = np.array(X_test_embeddings.tolist())"
      ],
      "metadata": {
        "id": "MnSL0Aeiom1G"
      },
      "execution_count": 22,
      "outputs": []
    },
    {
      "cell_type": "markdown",
      "source": [
        "**Label Encoding**: This method converts each label into a unique integer. For example, \"positive\" might be encoded as 0, \"negative as 1, and \"neutral\" as 2.\n",
        "1.   Preserves the ordinal relationship if there is one (e.g., \"negative\" < \"neutral\" < \"positive\").\n",
        "\n",
        "\n",
        "**One-Hot Encoding:** This method converts each label into a binary vector. For example, \"positive\" might be represented as [1, 0, 0], \"negative\" as [0, 1, 0], and \"neutral\" as [0, 0, 1].\n",
        "\n",
        "\n",
        "1.   Eliminates the risk of introducing ordinal relationships.\n",
        "2.   Suitable for algorithms that require binary inputs, such as logistic regression, neural networks, and support vector machines.\n",
        "\n"
      ],
      "metadata": {
        "id": "OGGX3p3dwkED"
      }
    },
    {
      "cell_type": "code",
      "source": [
        "from sklearn.preprocessing import LabelEncoder, OneHotEncoder\n",
        "\n",
        "def label_encode(y_train, y_test):\n",
        "\n",
        "    label_encoder = LabelEncoder()\n",
        "    y_train_encoded = label_encoder.fit_transform(y_train)\n",
        "    y_test_encoded = label_encoder.transform(y_test)\n",
        "    return y_train_encoded, y_test_encoded\n",
        "\n",
        "def one_hot_encode(y_train, y_test):\n",
        "    onehot_encoder = OneHotEncoder(sparse=False)\n",
        "    y_train_onehot = onehot_encoder.fit_transform(y_train.values.reshape(-1, 1))\n",
        "    y_test_onehot = onehot_encoder.transform(y_test.values.reshape(-1, 1))\n",
        "    return y_train_onehot, y_test_onehot"
      ],
      "metadata": {
        "id": "l8OD6BD7oonV"
      },
      "execution_count": 39,
      "outputs": []
    },
    {
      "cell_type": "code",
      "source": [
        "y_train_encoded, y_test_encoded = label_encode(y_train, y_test)\n",
        "y_train_onehot, y_test_onehot = one_hot_encode(y_train, y_test)\n",
        "\n",
        "print(\"Length of X_train_embeddings\" , len(X_train_embeddings))\n",
        "\n",
        "print(\"Label Encoded y_train:\", type(y_train_encoded))\n",
        "print(\"Label Encoded y_test:\", y_train_encoded.shape)\n",
        "\n",
        "print(\"One-Hot Encoded y_train:\", type(y_train_onehot))\n",
        "print(\"One-Hot Encoded y_test:\", y_train_onehot.shape)"
      ],
      "metadata": {
        "colab": {
          "base_uri": "https://localhost:8080/"
        },
        "id": "B-CE_2qltHd6",
        "outputId": "7c87c0a3-ea51-4f77-c476-f9a2903631d6"
      },
      "execution_count": 53,
      "outputs": [
        {
          "output_type": "stream",
          "name": "stdout",
          "text": [
            "Length of X_train_embeddings 21984\n",
            "Label Encoded y_train: <class 'numpy.ndarray'>\n",
            "Label Encoded y_test: (21984,)\n",
            "One-Hot Encoded y_train: <class 'numpy.ndarray'>\n",
            "One-Hot Encoded y_test: (21984, 3)\n"
          ]
        },
        {
          "output_type": "stream",
          "name": "stderr",
          "text": [
            "/usr/local/lib/python3.10/dist-packages/sklearn/preprocessing/_encoders.py:868: FutureWarning: `sparse` was renamed to `sparse_output` in version 1.2 and will be removed in 1.4. `sparse_output` is ignored unless you leave `sparse` to its default value.\n",
            "  warnings.warn(\n"
          ]
        }
      ]
    },
    {
      "cell_type": "code",
      "source": [
        "from sklearn.linear_model import LogisticRegression\n",
        "from sklearn.metrics import accuracy_score, classification_report\n",
        "\n",
        "model = LogisticRegression()\n",
        "model.fit(X_train_embeddings, y_train_encoded)\n",
        "\n",
        "y_pred = model.predict(X_test_embeddings)\n",
        "\n",
        "accuracy = accuracy_score(y_test_encoded, y_pred)\n",
        "print(\"Accuracy:\", accuracy)\n",
        "\n",
        "print(classification_report(y_test_encoded, y_pred))"
      ],
      "metadata": {
        "colab": {
          "base_uri": "https://localhost:8080/"
        },
        "id": "6qebLjVex9k4",
        "outputId": "7557e1bb-5d3d-4dd3-a0f0-cd6ed4c97e1c"
      },
      "execution_count": 55,
      "outputs": [
        {
          "output_type": "stream",
          "name": "stdout",
          "text": [
            "Accuracy: 0.6568413391557496\n",
            "              precision    recall  f1-score   support\n",
            "\n",
            "           0       0.68      0.55      0.61      1572\n",
            "           1       0.59      0.73      0.65      2236\n",
            "           2       0.76      0.66      0.71      1688\n",
            "\n",
            "    accuracy                           0.66      5496\n",
            "   macro avg       0.68      0.65      0.66      5496\n",
            "weighted avg       0.67      0.66      0.66      5496\n",
            "\n"
          ]
        },
        {
          "output_type": "stream",
          "name": "stderr",
          "text": [
            "/usr/local/lib/python3.10/dist-packages/sklearn/linear_model/_logistic.py:458: ConvergenceWarning: lbfgs failed to converge (status=1):\n",
            "STOP: TOTAL NO. of ITERATIONS REACHED LIMIT.\n",
            "\n",
            "Increase the number of iterations (max_iter) or scale the data as shown in:\n",
            "    https://scikit-learn.org/stable/modules/preprocessing.html\n",
            "Please also refer to the documentation for alternative solver options:\n",
            "    https://scikit-learn.org/stable/modules/linear_model.html#logistic-regression\n",
            "  n_iter_i = _check_optimize_result(\n"
          ]
        }
      ]
    },
    {
      "cell_type": "code",
      "source": [
        "from tensorflow.keras.models import Sequential\n",
        "from tensorflow.keras.layers import Dense, Dropout\n",
        "from tensorflow.keras.optimizers import Adam\n",
        "from tensorflow.keras.callbacks import ReduceLROnPlateau\n",
        "from sklearn.metrics import accuracy_score, classification_report\n",
        "\n",
        "model_onehot = Sequential()\n",
        "model_onehot.add(Dense(128, input_dim=X_train_embeddings.shape[1], activation='relu'))\n",
        "model_onehot.add(Dropout(0.5))\n",
        "model_onehot.add(Dense(64, activation='relu'))\n",
        "model_onehot.add(Dropout(0.5))\n",
        "model_onehot.add(Dense(y_train_onehot.shape[1], activation='softmax'))\n",
        "\n",
        "optimizer = Adam(learning_rate=0.001)\n",
        "model_onehot.compile(optimizer=optimizer, loss='categorical_crossentropy', metrics=['accuracy'])\n",
        "\n",
        "reduce_lr = ReduceLROnPlateau(monitor='val_loss', factor=0.2, patience=5, min_lr=0.0001)\n",
        "\n",
        "model_onehot.fit(X_train_embeddings, y_train_onehot, epochs=50, batch_size=64, validation_split=0.2, callbacks=[reduce_lr])\n",
        "\n",
        "y_pred_onehot = model_onehot.predict(X_test_embeddings)\n",
        "y_pred_onehot_classes = y_pred_onehot.argmax(axis=1)\n",
        "\n",
        "y_test_onehot_classes = y_test_onehot.argmax(axis=1)\n",
        "\n",
        "accuracy_onehot = accuracy_score(y_test_onehot_classes, y_pred_onehot_classes)\n",
        "report_onehot = classification_report(y_test_onehot_classes, y_pred_onehot_classes)\n",
        "\n",
        "print(\"Model Accuracy (One-Hot Encoding):\", accuracy_onehot)\n",
        "print(\"Classification Report (One-Hot Encoding):\\n\", report_onehot)"
      ],
      "metadata": {
        "colab": {
          "base_uri": "https://localhost:8080/"
        },
        "id": "lhsP5zUo2OUB",
        "outputId": "324f217c-cad1-4199-cc88-10e86b8dd723"
      },
      "execution_count": 59,
      "outputs": [
        {
          "output_type": "stream",
          "name": "stdout",
          "text": [
            "Epoch 1/50\n",
            "275/275 [==============================] - 2s 5ms/step - loss: 0.9552 - accuracy: 0.5222 - val_loss: 0.7903 - val_accuracy: 0.6539 - lr: 0.0010\n",
            "Epoch 2/50\n",
            "275/275 [==============================] - 1s 4ms/step - loss: 0.7894 - accuracy: 0.6481 - val_loss: 0.7562 - val_accuracy: 0.6707 - lr: 0.0010\n",
            "Epoch 3/50\n",
            "275/275 [==============================] - 2s 6ms/step - loss: 0.7550 - accuracy: 0.6710 - val_loss: 0.7287 - val_accuracy: 0.6836 - lr: 0.0010\n",
            "Epoch 4/50\n",
            "275/275 [==============================] - 2s 7ms/step - loss: 0.7420 - accuracy: 0.6785 - val_loss: 0.7311 - val_accuracy: 0.6809 - lr: 0.0010\n",
            "Epoch 5/50\n",
            "275/275 [==============================] - 2s 7ms/step - loss: 0.7230 - accuracy: 0.6909 - val_loss: 0.7238 - val_accuracy: 0.6850 - lr: 0.0010\n",
            "Epoch 6/50\n",
            "275/275 [==============================] - 1s 5ms/step - loss: 0.7161 - accuracy: 0.6961 - val_loss: 0.7328 - val_accuracy: 0.6791 - lr: 0.0010\n",
            "Epoch 7/50\n",
            "275/275 [==============================] - 1s 4ms/step - loss: 0.7069 - accuracy: 0.6988 - val_loss: 0.7310 - val_accuracy: 0.6805 - lr: 0.0010\n",
            "Epoch 8/50\n",
            "275/275 [==============================] - 1s 4ms/step - loss: 0.6968 - accuracy: 0.7059 - val_loss: 0.7260 - val_accuracy: 0.6771 - lr: 0.0010\n",
            "Epoch 9/50\n",
            "275/275 [==============================] - 1s 4ms/step - loss: 0.6877 - accuracy: 0.7105 - val_loss: 0.7156 - val_accuracy: 0.6923 - lr: 0.0010\n",
            "Epoch 10/50\n",
            "275/275 [==============================] - 1s 4ms/step - loss: 0.6809 - accuracy: 0.7119 - val_loss: 0.7178 - val_accuracy: 0.6882 - lr: 0.0010\n",
            "Epoch 11/50\n",
            "275/275 [==============================] - 1s 4ms/step - loss: 0.6755 - accuracy: 0.7149 - val_loss: 0.7164 - val_accuracy: 0.6943 - lr: 0.0010\n",
            "Epoch 12/50\n",
            "275/275 [==============================] - 1s 4ms/step - loss: 0.6730 - accuracy: 0.7181 - val_loss: 0.7119 - val_accuracy: 0.6921 - lr: 0.0010\n",
            "Epoch 13/50\n",
            "275/275 [==============================] - 1s 4ms/step - loss: 0.6647 - accuracy: 0.7196 - val_loss: 0.7223 - val_accuracy: 0.6907 - lr: 0.0010\n",
            "Epoch 14/50\n",
            "275/275 [==============================] - 1s 5ms/step - loss: 0.6565 - accuracy: 0.7249 - val_loss: 0.7160 - val_accuracy: 0.6932 - lr: 0.0010\n",
            "Epoch 15/50\n",
            "275/275 [==============================] - 2s 6ms/step - loss: 0.6525 - accuracy: 0.7284 - val_loss: 0.7203 - val_accuracy: 0.6893 - lr: 0.0010\n",
            "Epoch 16/50\n",
            "275/275 [==============================] - 2s 7ms/step - loss: 0.6458 - accuracy: 0.7291 - val_loss: 0.7210 - val_accuracy: 0.6896 - lr: 0.0010\n",
            "Epoch 17/50\n",
            "275/275 [==============================] - 1s 5ms/step - loss: 0.6385 - accuracy: 0.7330 - val_loss: 0.7216 - val_accuracy: 0.6902 - lr: 0.0010\n",
            "Epoch 18/50\n",
            "275/275 [==============================] - 1s 4ms/step - loss: 0.6145 - accuracy: 0.7476 - val_loss: 0.7195 - val_accuracy: 0.6905 - lr: 2.0000e-04\n",
            "Epoch 19/50\n",
            "275/275 [==============================] - 1s 4ms/step - loss: 0.6074 - accuracy: 0.7482 - val_loss: 0.7189 - val_accuracy: 0.6868 - lr: 2.0000e-04\n",
            "Epoch 20/50\n",
            "275/275 [==============================] - 1s 4ms/step - loss: 0.6057 - accuracy: 0.7527 - val_loss: 0.7196 - val_accuracy: 0.6884 - lr: 2.0000e-04\n",
            "Epoch 21/50\n",
            "275/275 [==============================] - 1s 4ms/step - loss: 0.5983 - accuracy: 0.7507 - val_loss: 0.7265 - val_accuracy: 0.6909 - lr: 2.0000e-04\n",
            "Epoch 22/50\n",
            "275/275 [==============================] - 1s 4ms/step - loss: 0.5965 - accuracy: 0.7529 - val_loss: 0.7210 - val_accuracy: 0.6900 - lr: 2.0000e-04\n",
            "Epoch 23/50\n",
            "275/275 [==============================] - 1s 4ms/step - loss: 0.5966 - accuracy: 0.7569 - val_loss: 0.7227 - val_accuracy: 0.6916 - lr: 1.0000e-04\n",
            "Epoch 24/50\n",
            "275/275 [==============================] - 1s 4ms/step - loss: 0.5902 - accuracy: 0.7577 - val_loss: 0.7240 - val_accuracy: 0.6889 - lr: 1.0000e-04\n",
            "Epoch 25/50\n",
            "275/275 [==============================] - 1s 4ms/step - loss: 0.5900 - accuracy: 0.7607 - val_loss: 0.7231 - val_accuracy: 0.6930 - lr: 1.0000e-04\n",
            "Epoch 26/50\n",
            "275/275 [==============================] - 2s 6ms/step - loss: 0.5913 - accuracy: 0.7604 - val_loss: 0.7236 - val_accuracy: 0.6912 - lr: 1.0000e-04\n",
            "Epoch 27/50\n",
            "275/275 [==============================] - 2s 7ms/step - loss: 0.5919 - accuracy: 0.7553 - val_loss: 0.7264 - val_accuracy: 0.6891 - lr: 1.0000e-04\n",
            "Epoch 28/50\n",
            "275/275 [==============================] - 2s 6ms/step - loss: 0.5869 - accuracy: 0.7582 - val_loss: 0.7244 - val_accuracy: 0.6907 - lr: 1.0000e-04\n",
            "Epoch 29/50\n",
            "275/275 [==============================] - 1s 4ms/step - loss: 0.5888 - accuracy: 0.7593 - val_loss: 0.7226 - val_accuracy: 0.6914 - lr: 1.0000e-04\n",
            "Epoch 30/50\n",
            "275/275 [==============================] - 1s 4ms/step - loss: 0.5836 - accuracy: 0.7621 - val_loss: 0.7259 - val_accuracy: 0.6902 - lr: 1.0000e-04\n",
            "Epoch 31/50\n",
            "275/275 [==============================] - 1s 4ms/step - loss: 0.5821 - accuracy: 0.7662 - val_loss: 0.7252 - val_accuracy: 0.6916 - lr: 1.0000e-04\n",
            "Epoch 32/50\n",
            "275/275 [==============================] - 1s 4ms/step - loss: 0.5822 - accuracy: 0.7627 - val_loss: 0.7285 - val_accuracy: 0.6925 - lr: 1.0000e-04\n",
            "Epoch 33/50\n",
            "275/275 [==============================] - 1s 4ms/step - loss: 0.5775 - accuracy: 0.7654 - val_loss: 0.7259 - val_accuracy: 0.6893 - lr: 1.0000e-04\n",
            "Epoch 34/50\n",
            "275/275 [==============================] - 1s 4ms/step - loss: 0.5804 - accuracy: 0.7628 - val_loss: 0.7282 - val_accuracy: 0.6918 - lr: 1.0000e-04\n",
            "Epoch 35/50\n",
            "275/275 [==============================] - 1s 5ms/step - loss: 0.5773 - accuracy: 0.7682 - val_loss: 0.7272 - val_accuracy: 0.6902 - lr: 1.0000e-04\n",
            "Epoch 36/50\n",
            "275/275 [==============================] - 1s 4ms/step - loss: 0.5769 - accuracy: 0.7660 - val_loss: 0.7303 - val_accuracy: 0.6898 - lr: 1.0000e-04\n",
            "Epoch 37/50\n",
            "275/275 [==============================] - 1s 5ms/step - loss: 0.5762 - accuracy: 0.7636 - val_loss: 0.7282 - val_accuracy: 0.6909 - lr: 1.0000e-04\n",
            "Epoch 38/50\n",
            "275/275 [==============================] - 2s 7ms/step - loss: 0.5775 - accuracy: 0.7687 - val_loss: 0.7281 - val_accuracy: 0.6896 - lr: 1.0000e-04\n",
            "Epoch 39/50\n",
            "275/275 [==============================] - 2s 7ms/step - loss: 0.5697 - accuracy: 0.7677 - val_loss: 0.7279 - val_accuracy: 0.6880 - lr: 1.0000e-04\n",
            "Epoch 40/50\n",
            "275/275 [==============================] - 1s 5ms/step - loss: 0.5718 - accuracy: 0.7689 - val_loss: 0.7299 - val_accuracy: 0.6877 - lr: 1.0000e-04\n",
            "Epoch 41/50\n",
            "275/275 [==============================] - 1s 4ms/step - loss: 0.5725 - accuracy: 0.7685 - val_loss: 0.7301 - val_accuracy: 0.6898 - lr: 1.0000e-04\n",
            "Epoch 42/50\n",
            "275/275 [==============================] - 1s 4ms/step - loss: 0.5655 - accuracy: 0.7716 - val_loss: 0.7313 - val_accuracy: 0.6900 - lr: 1.0000e-04\n",
            "Epoch 43/50\n",
            "275/275 [==============================] - 1s 4ms/step - loss: 0.5710 - accuracy: 0.7682 - val_loss: 0.7306 - val_accuracy: 0.6889 - lr: 1.0000e-04\n",
            "Epoch 44/50\n",
            "275/275 [==============================] - 1s 4ms/step - loss: 0.5696 - accuracy: 0.7705 - val_loss: 0.7311 - val_accuracy: 0.6880 - lr: 1.0000e-04\n",
            "Epoch 45/50\n",
            "275/275 [==============================] - 1s 4ms/step - loss: 0.5635 - accuracy: 0.7747 - val_loss: 0.7335 - val_accuracy: 0.6880 - lr: 1.0000e-04\n",
            "Epoch 46/50\n",
            "275/275 [==============================] - 1s 4ms/step - loss: 0.5639 - accuracy: 0.7716 - val_loss: 0.7332 - val_accuracy: 0.6866 - lr: 1.0000e-04\n",
            "Epoch 47/50\n",
            "275/275 [==============================] - 1s 4ms/step - loss: 0.5637 - accuracy: 0.7696 - val_loss: 0.7370 - val_accuracy: 0.6900 - lr: 1.0000e-04\n",
            "Epoch 48/50\n",
            "275/275 [==============================] - 1s 4ms/step - loss: 0.5667 - accuracy: 0.7682 - val_loss: 0.7341 - val_accuracy: 0.6912 - lr: 1.0000e-04\n",
            "Epoch 49/50\n",
            "275/275 [==============================] - 2s 7ms/step - loss: 0.5655 - accuracy: 0.7719 - val_loss: 0.7349 - val_accuracy: 0.6902 - lr: 1.0000e-04\n",
            "Epoch 50/50\n",
            "275/275 [==============================] - 2s 6ms/step - loss: 0.5607 - accuracy: 0.7736 - val_loss: 0.7344 - val_accuracy: 0.6877 - lr: 1.0000e-04\n",
            "172/172 [==============================] - 1s 3ms/step\n",
            "Model Accuracy (One-Hot Encoding): 0.6915938864628821\n",
            "Classification Report (One-Hot Encoding):\n",
            "               precision    recall  f1-score   support\n",
            "\n",
            "           0       0.65      0.69      0.67      1572\n",
            "           1       0.68      0.65      0.66      2236\n",
            "           2       0.75      0.75      0.75      1688\n",
            "\n",
            "    accuracy                           0.69      5496\n",
            "   macro avg       0.69      0.70      0.69      5496\n",
            "weighted avg       0.69      0.69      0.69      5496\n",
            "\n"
          ]
        }
      ]
    },
    {
      "cell_type": "code",
      "source": [
        "import numpy as np\n",
        "import matplotlib.pyplot as plt\n",
        "from sklearn.metrics import roc_curve, auc\n",
        "from itertools import cycle\n",
        "\n",
        "n_classes = y_train_onehot.shape[1]\n",
        "fpr = dict()\n",
        "tpr = dict()\n",
        "roc_auc = dict()\n",
        "\n",
        "for i in range(n_classes):\n",
        "    fpr[i], tpr[i], _ = roc_curve(y_test_onehot[:, i], y_pred_onehot[:, i])\n",
        "    roc_auc[i] = auc(fpr[i], tpr[i])\n",
        "\n",
        "plt.figure()\n",
        "colors = cycle(['aqua', 'darkorange', 'cornflowerblue'])\n",
        "for i, color in zip(range(n_classes), colors):\n",
        "    plt.plot(fpr[i], tpr[i], color=color, lw=2,\n",
        "             label='ROC curve of class {0} (area = {1:0.2f})'\n",
        "             ''.format(i, roc_auc[i]))\n",
        "\n",
        "plt.plot([0, 1], [0, 1], 'k--', lw=2)\n",
        "plt.xlim([0.0, 1.0])\n",
        "plt.ylim([0.0, 1.05])\n",
        "plt.xlabel('False Positive Rate')\n",
        "plt.ylabel('True Positive Rate')\n",
        "plt.title('Receiver Operating Characteristic for Multi-Class')\n",
        "plt.legend(loc=\"lower right\")\n",
        "plt.show()"
      ],
      "metadata": {
        "colab": {
          "base_uri": "https://localhost:8080/",
          "height": 472
        },
        "id": "CdG6la3O1rzn",
        "outputId": "aae840a6-52b3-4568-9af4-5021b8865d98"
      },
      "execution_count": 60,
      "outputs": [
        {
          "output_type": "display_data",
          "data": {
            "text/plain": [
              "<Figure size 640x480 with 1 Axes>"
            ],
            "image/png": "[encoded data removed]"
          },
          "metadata": {}
        }
      ]
    },
    {
      "cell_type": "code",
      "source": [
        "def classify_sentiment(text):\n",
        "    preprocessed_text = preprocess_text(text)\n",
        "\n",
        "    text_embeddings = get_avg_embedding(preprocessed_text)\n",
        "\n",
        "    text_embeddings = np.array(text_embeddings).reshape(1, -1)\n",
        "\n",
        "    prediction = model_onehot.predict(text_embeddings)\n",
        "\n",
        "    predicted_class = np.argmax(prediction, axis=1)[0]\n",
        "\n",
        "    sentiment_labels = {0: 'Negative', 1: 'Neutral', 2: 'Positive'}\n",
        "    sentiment = sentiment_labels[predicted_class]\n",
        "\n",
        "    print(f\"The sentiment of the text is: {sentiment}\")\n",
        "\n",
        "text = \"I want to play.\"\n",
        "classify_sentiment(text)\n",
        "text = \"I love this product! It's amazing.\"\n",
        "classify_sentiment(text)\n",
        "text = \"I hate this product! It's not amazing.\"\n",
        "classify_sentiment(text)"
      ],
      "metadata": {
        "colab": {
          "base_uri": "https://localhost:8080/"
        },
        "id": "uX2zDCvS5bDV",
        "outputId": "e21670b6-a3c5-4cc5-c001-6fa1b6726a73"
      },
      "execution_count": 65,
      "outputs": [
        {
          "output_type": "stream",
          "name": "stdout",
          "text": [
            "1/1 [==============================] - 0s 60ms/step\n",
            "The sentiment of the text is: Neutral\n",
            "1/1 [==============================] - 0s 36ms/step\n",
            "The sentiment of the text is: Positive\n",
            "1/1 [==============================] - 0s 38ms/step\n",
            "The sentiment of the text is: Negative\n"
          ]
        }
      ]
    },
    {
      "cell_type": "code",
      "source": [],
      "metadata": {
        "id": "uldOkG2K6o1n"
      },
      "execution_count": null,
      "outputs": []
    }
  ],
  "metadata": {
    "accelerator": "GPU",
    "colab": {
      "gpuType": "T4",
      "provenance": [],
      "mount_file_id": "1M8mPIVs0xUtcYu_3ZFQRmHrDYVqlA4Cb",
      "authorship_tag": "ABX9TyMC1oHU1bB6abiCJMJ/7wUC",
      "include_colab_link": true
    },
    "kernelspec": {
      "display_name": "Python 3",
      "name": "python3"
    },
    "language_info": {
      "name": "python"
    }
  },
  "nbformat": 4,
  "nbformat_minor": 0
}