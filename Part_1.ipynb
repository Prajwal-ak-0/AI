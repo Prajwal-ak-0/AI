{
  "cells": [
    {
      "cell_type": "markdown",
      "metadata": {
        "id": "view-in-github",
        "colab_type": "text"
      },
      "source": [
        "<a href=\"https://colab.research.google.com/github/Prajwal-ak-0/AI/blob/master/Part_1.ipynb\" target=\"_parent\"><img src=\"https://colab.research.google.com/assets/colab-badge.svg\" alt=\"Open In Colab\"/></a>"
      ]
    },
    {
      "cell_type": "markdown",
      "metadata": {
        "id": "gFz3-66EKQJh"
      },
      "source": [
        "# 1. Introduction to Machine Learning and Deep Learning\n",
        "\n",
        "**Machine Learning (ML)**: A branch of AI that learns from data and predicts unseen data. It can be applied everywhere, as long as we are able to convert the data into numbers, program it, and find patterns.\n",
        "\n",
        "### Differences between ML and DL\n",
        "* **Machine Learning (ML)** is generally applied to structured data.\n",
        "* **Deep Learning (DL)**, a subset of ML, is typically applied to unstructured data.\n",
        "\n",
        "### When to Apply ML/DL\n",
        "* When we cannot specify all the rules we are going to encounter and the environment keeps changing with time.\n",
        "* When there is a large amount of data, we can use ML/DL to gain insights.\n",
        "\n",
        "### When Not to Apply DL\n",
        "* If we can solve the problem with simple ML, it is better to avoid DL as it requires more computation.\n",
        "* In the absence of large data, ML is preferred to deliver accurate results.\n",
        "\n",
        "![Machine Learning vs Deep Learning](https://assets-global.website-files.com/5fb24a974499e90dae242d98/60f6fcbbeb0b8f57a7980a98_5f213db7c7763a9288759ad1_5eac2d0ef117c236e34cc0ff_DeepLearning.jpeg)\n",
        "\n",
        "# Artificial Neural Network (ANN)\n",
        "\n",
        "**Artificial Neural Network (ANN)**: A model inspired by the structure and function of biological neural networks. It consists of:\n",
        "\n",
        "1. **Input Layer**: The incoming data is fed into this layer. Generally, it is a single layer.\n",
        "2. **Hidden Layer(s)**: The model can consist of any number of hidden layers. Each layer helps in feature extraction.\n",
        "3. **Output Layer**: Based on the extracted features, this layer makes the final decision.\n",
        "\n",
        "\n"
      ]
    },
    {
      "cell_type": "markdown",
      "metadata": {
        "id": "kFKDX9xZcTEv"
      },
      "source": [
        "# 2. Tensorflow basics\n",
        "\n",
        "**TensorFlow**: An end-to-end open-source machine learning platform used to develop models for various tasks, including natural language processing, image recognition, etc.\n",
        "\n",
        "* Contains prebuilt models.\n",
        "* Provides the tools to build or customize a model.\n"
      ]
    },
    {
      "cell_type": "code",
      "execution_count": 1,
      "metadata": {
        "id": "bpJWy7j9gYY4"
      },
      "outputs": [],
      "source": [
        "import tensorflow as tf"
      ]
    },
    {
      "cell_type": "code",
      "execution_count": 2,
      "metadata": {
        "colab": {
          "base_uri": "https://localhost:8080/"
        },
        "id": "CUMXD_c2dBMY",
        "outputId": "8ffe86b0-14b6-450f-febe-586b8564c8a5"
      },
      "outputs": [
        {
          "output_type": "stream",
          "name": "stdout",
          "text": [
            "0\n"
          ]
        }
      ],
      "source": [
        "scalar = tf.constant(10)\n",
        "scalar\n",
        "print(scalar.ndim)"
      ]
    },
    {
      "cell_type": "code",
      "execution_count": 3,
      "metadata": {
        "colab": {
          "base_uri": "https://localhost:8080/"
        },
        "id": "mT-kh41ggUk_",
        "outputId": "dd37c651-da43-423b-c422-f6bd4096d285"
      },
      "outputs": [
        {
          "output_type": "stream",
          "name": "stdout",
          "text": [
            "1\n"
          ]
        }
      ],
      "source": [
        "vector = tf.constant([10,20,30,40])\n",
        "vector\n",
        "print(vector.ndim)"
      ]
    },
    {
      "cell_type": "code",
      "execution_count": 4,
      "metadata": {
        "colab": {
          "base_uri": "https://localhost:8080/"
        },
        "id": "e9L45dHohb08",
        "outputId": "ea4a312e-54c7-450e-ec99-2335ccf5e2c1"
      },
      "outputs": [
        {
          "output_type": "stream",
          "name": "stdout",
          "text": [
            "2\n"
          ]
        }
      ],
      "source": [
        "matrix = tf.constant([[10,20,30,40], [40,50,60,80]])\n",
        "matrix\n",
        "print(matrix.ndim)"
      ]
    },
    {
      "cell_type": "code",
      "execution_count": 5,
      "metadata": {
        "colab": {
          "base_uri": "https://localhost:8080/"
        },
        "id": "EV2fsk5AglO6",
        "outputId": "b62e9e42-47c3-4ad0-87ed-64ff8146fb2e"
      },
      "outputs": [
        {
          "output_type": "stream",
          "name": "stdout",
          "text": [
            "3\n"
          ]
        }
      ],
      "source": [
        "tensor = tf.constant([[[10,20,30],[40,50,60]], [[10,20,30],[40,50,60]], [[10,20,30],[40,50,60]], [[10,20,30],[40,50,60]]])\n",
        "tensor\n",
        "print(tensor.ndim)"
      ]
    },
    {
      "cell_type": "markdown",
      "metadata": {
        "id": "UjHpbRZdNFYZ"
      },
      "source": [
        "### **constant()** vs **variable()**"
      ]
    },
    {
      "cell_type": "code",
      "execution_count": 6,
      "metadata": {
        "colab": {
          "base_uri": "https://localhost:8080/"
        },
        "id": "DFCvOF8VNMAF",
        "outputId": "3d0c21a5-8660-4473-befb-81a02bfdab85"
      },
      "outputs": [
        {
          "output_type": "stream",
          "name": "stdout",
          "text": [
            "<tf.Variable 'Variable:0' shape=(2,) dtype=int32, numpy=array([10,  7], dtype=int32)>\n",
            "tf.Tensor([10  7], shape=(2,), dtype=int32)\n"
          ]
        }
      ],
      "source": [
        "var = tf.Variable([10,7])\n",
        "const = tf.constant([10,7])\n",
        "print(var)\n",
        "print(const)"
      ]
    },
    {
      "cell_type": "code",
      "execution_count": 7,
      "metadata": {
        "colab": {
          "base_uri": "https://localhost:8080/"
        },
        "id": "suvFdfkDNShm",
        "outputId": "cbd2490c-00b8-421a-e4bc-0335d3d53413"
      },
      "outputs": [
        {
          "output_type": "stream",
          "name": "stdout",
          "text": [
            "<tf.Variable 'Variable:0' shape=(2,) dtype=int32, numpy=array([100,   7], dtype=int32)>\n"
          ]
        }
      ],
      "source": [
        "var[0].assign(100)\n",
        "print(var)"
      ]
    },
    {
      "cell_type": "code",
      "execution_count": 8,
      "metadata": {
        "id": "uC136QP_OMZg"
      },
      "outputs": [],
      "source": [
        "# const[0].assign(100)\n",
        "\n",
        "# NameError                                 Traceback (most recent call last)\n",
        "# <ipython-input-3-f1af4f6e9736> in <cell line: 1>()\n",
        "# ----> 1 const[0].assign(100)\n",
        "\n",
        "# NameError: name 'const' is not defined"
      ]
    },
    {
      "cell_type": "markdown",
      "metadata": {
        "id": "GTX4div0Pqi7"
      },
      "source": [
        "### Creating Random Tensors"
      ]
    },
    {
      "cell_type": "code",
      "execution_count": 9,
      "metadata": {
        "colab": {
          "base_uri": "https://localhost:8080/"
        },
        "id": "15DPHOFOPqBP",
        "outputId": "d5cd2b3b-06f3-4097-f6a8-cafac9e6290b"
      },
      "outputs": [
        {
          "output_type": "execute_result",
          "data": {
            "text/plain": [
              "(<tf.Tensor: shape=(3, 4), dtype=float32, numpy=\n",
              " array([[ 0.78953624,  0.53897345, -0.48535708,  0.74055266],\n",
              "        [ 0.31662667, -1.4391748 ,  0.58923835, -1.4268045 ],\n",
              "        [-0.7565803 , -0.06854702,  0.07595026, -1.2573844 ]],\n",
              "       dtype=float32)>,\n",
              " <tf.Tensor: shape=(3, 4), dtype=float32, numpy=\n",
              " array([[ 0.78953624,  0.53897345, -0.48535708,  0.74055266],\n",
              "        [ 0.31662667, -1.4391748 ,  0.58923835, -1.4268045 ],\n",
              "        [-0.7565803 , -0.06854702,  0.07595026, -1.2573844 ]],\n",
              "       dtype=float32)>,\n",
              " <tf.Tensor: shape=(3, 4), dtype=bool, numpy=\n",
              " array([[ True,  True,  True,  True],\n",
              "        [ True,  True,  True,  True],\n",
              "        [ True,  True,  True,  True]])>)"
            ]
          },
          "metadata": {},
          "execution_count": 9
        }
      ],
      "source": [
        "rand_1 = tf.random.Generator.from_seed(40)\n",
        "rand_1 = rand_1.normal(shape=(3,4))\n",
        "rand_2 = tf.random.Generator.from_seed(40)\n",
        "rand_2 = rand_2.normal(shape=(3,4))\n",
        "\n",
        "rand_1, rand_2, rand_1 == rand_2"
      ]
    },
    {
      "cell_type": "code",
      "execution_count": 10,
      "metadata": {
        "colab": {
          "base_uri": "https://localhost:8080/"
        },
        "id": "wdP7utHczu7t",
        "outputId": "e94815b2-0d97-4499-d569-2df39a7d2666"
      },
      "outputs": [
        {
          "output_type": "execute_result",
          "data": {
            "text/plain": [
              "(<tf.Tensor: shape=(3, 4), dtype=float32, numpy=\n",
              " array([[ 0.78953624,  0.53897345, -0.48535708,  0.74055266],\n",
              "        [ 0.31662667, -1.4391748 ,  0.58923835, -1.4268045 ],\n",
              "        [-0.7565803 , -0.06854702,  0.07595026, -1.2573844 ]],\n",
              "       dtype=float32)>,\n",
              " <tf.Tensor: shape=(3, 4), dtype=float32, numpy=\n",
              " array([[-0.29604468, -0.21134208,  0.01063002,  1.5165398 ],\n",
              "        [ 0.2730574 , -0.29925638, -0.3652325 ,  0.61883307],\n",
              "        [-1.0130817 ,  0.28291714,  1.2132233 ,  0.46988967]],\n",
              "       dtype=float32)>,\n",
              " <tf.Tensor: shape=(3, 4), dtype=bool, numpy=\n",
              " array([[False, False, False, False],\n",
              "        [False, False, False, False],\n",
              "        [False, False, False, False]])>)"
            ]
          },
          "metadata": {},
          "execution_count": 10
        }
      ],
      "source": [
        "rand_1 = tf.random.Generator.from_seed(40)\n",
        "rand_1 = rand_1.normal(shape=(3,4))\n",
        "rand_2 = tf.random.Generator.from_seed(10)\n",
        "rand_2 = rand_2.normal(shape=(3,4))\n",
        "\n",
        "rand_1, rand_2, rand_1 == rand_2"
      ]
    },
    {
      "cell_type": "markdown",
      "metadata": {
        "id": "GIipWoHi0ZtM"
      },
      "source": [
        "### Shuffling the order of the tensors"
      ]
    },
    {
      "cell_type": "code",
      "execution_count": 11,
      "metadata": {
        "colab": {
          "base_uri": "https://localhost:8080/"
        },
        "id": "dM3TTEDC0ddH",
        "outputId": "2adbe5ca-c03d-46c0-cd1c-c311832b0968"
      },
      "outputs": [
        {
          "output_type": "execute_result",
          "data": {
            "text/plain": [
              "<tf.Tensor: shape=(4, 3), dtype=int32, numpy=\n",
              "array([[10,  2,  3],\n",
              "       [22,  1, 21],\n",
              "       [32, 34,  5],\n",
              "       [12, 43, 23]], dtype=int32)>"
            ]
          },
          "metadata": {},
          "execution_count": 11
        }
      ],
      "source": [
        "shuffle = tf.constant([[10,2,3], [32,34,5], [12,43,23], [22,1,21]])\n",
        "tf.random.shuffle(shuffle, seed=10)"
      ]
    },
    {
      "cell_type": "code",
      "execution_count": 12,
      "metadata": {
        "colab": {
          "base_uri": "https://localhost:8080/"
        },
        "id": "OlVRZiTl0yY4",
        "outputId": "7ae0a18f-0c84-4e56-b518-11d045c9b2bd"
      },
      "outputs": [
        {
          "output_type": "execute_result",
          "data": {
            "text/plain": [
              "<tf.Tensor: shape=(4, 3), dtype=int32, numpy=\n",
              "array([[12, 43, 23],\n",
              "       [32, 34,  5],\n",
              "       [22,  1, 21],\n",
              "       [10,  2,  3]], dtype=int32)>"
            ]
          },
          "metadata": {},
          "execution_count": 12
        }
      ],
      "source": [
        "shuffle = tf.constant([[10,2,3], [32,34,5], [12,43,23], [22,1,21]])\n",
        "tf.random.shuffle(shuffle, seed = 10)"
      ]
    },
    {
      "cell_type": "markdown",
      "metadata": {
        "id": "Ti3TfQL-OML0"
      },
      "source": [
        "### Setting A Global Seed"
      ]
    },
    {
      "cell_type": "code",
      "execution_count": 13,
      "metadata": {
        "colab": {
          "base_uri": "https://localhost:8080/"
        },
        "id": "_biCwECfL3ep",
        "outputId": "39835555-5dc2-4bc5-eed6-2b8c54cab53a"
      },
      "outputs": [
        {
          "output_type": "execute_result",
          "data": {
            "text/plain": [
              "<tf.Tensor: shape=(4, 3), dtype=int32, numpy=\n",
              "array([[12, 43, 23],\n",
              "       [22,  1, 21],\n",
              "       [10,  2,  3],\n",
              "       [32, 34,  5]], dtype=int32)>"
            ]
          },
          "metadata": {},
          "execution_count": 13
        }
      ],
      "source": [
        "shuffle = tf.constant([[10,2,3], [32,34,5], [12,43,23], [22,1,21]])\n",
        "tf.random.set_seed(10)\n",
        "tf.random.shuffle(shuffle)"
      ]
    },
    {
      "cell_type": "markdown",
      "metadata": {
        "id": "1nEHBmb2PXw9"
      },
      "source": [
        "### Creating A Tensor From Numpy"
      ]
    },
    {
      "cell_type": "code",
      "execution_count": 14,
      "metadata": {
        "colab": {
          "base_uri": "https://localhost:8080/"
        },
        "id": "P4VMdzuTPd2z",
        "outputId": "9bd6a219-ec34-4bce-b2df-0690aee114c2"
      },
      "outputs": [
        {
          "output_type": "execute_result",
          "data": {
            "text/plain": [
              "<tf.Tensor: shape=(24,), dtype=int64, numpy=\n",
              "array([ 1,  2,  3,  4,  5,  6,  7,  8,  9, 10, 11, 12, 13, 14, 15, 16, 17,\n",
              "       18, 19, 20, 21, 22, 23, 24])>"
            ]
          },
          "metadata": {},
          "execution_count": 14
        }
      ],
      "source": [
        "import numpy as np\n",
        "numpy_A = np.arange(1, 25)\n",
        "A = tf.constant(numpy_A)\n",
        "A"
      ]
    },
    {
      "cell_type": "markdown",
      "metadata": {
        "id": "Qy5Nlm5OR1Cl"
      },
      "source": [
        "### Shape, Rank and Size"
      ]
    },
    {
      "cell_type": "code",
      "execution_count": 15,
      "metadata": {
        "colab": {
          "base_uri": "https://localhost:8080/"
        },
        "id": "NpMn8FJVR4o-",
        "outputId": "8afcb917-2876-4577-b8a2-dbb51da0beee"
      },
      "outputs": [
        {
          "output_type": "execute_result",
          "data": {
            "text/plain": [
              "<tf.Tensor: shape=(2, 3, 4, 5), dtype=float32, numpy=\n",
              "array([[[[0., 0., 0., 0., 0.],\n",
              "         [0., 0., 0., 0., 0.],\n",
              "         [0., 0., 0., 0., 0.],\n",
              "         [0., 0., 0., 0., 0.]],\n",
              "\n",
              "        [[0., 0., 0., 0., 0.],\n",
              "         [0., 0., 0., 0., 0.],\n",
              "         [0., 0., 0., 0., 0.],\n",
              "         [0., 0., 0., 0., 0.]],\n",
              "\n",
              "        [[0., 0., 0., 0., 0.],\n",
              "         [0., 0., 0., 0., 0.],\n",
              "         [0., 0., 0., 0., 0.],\n",
              "         [0., 0., 0., 0., 0.]]],\n",
              "\n",
              "\n",
              "       [[[0., 0., 0., 0., 0.],\n",
              "         [0., 0., 0., 0., 0.],\n",
              "         [0., 0., 0., 0., 0.],\n",
              "         [0., 0., 0., 0., 0.]],\n",
              "\n",
              "        [[0., 0., 0., 0., 0.],\n",
              "         [0., 0., 0., 0., 0.],\n",
              "         [0., 0., 0., 0., 0.],\n",
              "         [0., 0., 0., 0., 0.]],\n",
              "\n",
              "        [[0., 0., 0., 0., 0.],\n",
              "         [0., 0., 0., 0., 0.],\n",
              "         [0., 0., 0., 0., 0.],\n",
              "         [0., 0., 0., 0., 0.]]]], dtype=float32)>"
            ]
          },
          "metadata": {},
          "execution_count": 15
        }
      ],
      "source": [
        "# Creating a 4 dimension tensor\n",
        "random_4_T = tf.zeros(shape=(2,3,4,5))\n",
        "random_4_T"
      ]
    },
    {
      "cell_type": "code",
      "execution_count": 16,
      "metadata": {
        "colab": {
          "base_uri": "https://localhost:8080/"
        },
        "id": "vWV7qvT9XNcE",
        "outputId": "7c5ead74-3702-44a6-e611-28b57b2adbbc"
      },
      "outputs": [
        {
          "output_type": "stream",
          "name": "stdout",
          "text": [
            "Data type of tensor :  (2, 3, 4, 5)\n",
            "Dimension(rank) of a tensor :  4\n",
            "Datatype of tensor :  <dtype: 'float32'>\n",
            "Total No of element in tensor :  120\n",
            "No of ele along 0th dim :  2\n",
            "No of ele along last dim :  5\n"
          ]
        }
      ],
      "source": [
        "print(\"Data type of tensor : \",random_4_T.shape)\n",
        "print(\"Dimension(rank) of a tensor : \",random_4_T.ndim)\n",
        "print(\"Datatype of tensor : \", random_4_T.dtype)\n",
        "print(\"Total No of element in tensor : \",tf.size(random_4_T).numpy())\n",
        "print(\"No of ele along 0th dim : \", random_4_T.shape[0])\n",
        "print(\"No of ele along last dim : \", random_4_T.shape[-1])"
      ]
    },
    {
      "cell_type": "markdown",
      "metadata": {
        "id": "XcIN8O-iZF6h"
      },
      "source": [
        "### Indexing in tensors"
      ]
    },
    {
      "cell_type": "markdown",
      "metadata": {
        "id": "_D-li0SHcABj"
      },
      "source": []
    },
    {
      "cell_type": "code",
      "execution_count": 17,
      "metadata": {
        "colab": {
          "base_uri": "https://localhost:8080/"
        },
        "id": "ORSdCNqdZFcn",
        "outputId": "02752aff-f786-4d6d-bba0-72fc2ae4b0b9"
      },
      "outputs": [
        {
          "output_type": "execute_result",
          "data": {
            "text/plain": [
              "<tf.Tensor: shape=(2, 3, 4), dtype=int32, numpy=\n",
              "array([[[19, 11, 15,  8],\n",
              "        [18, 12, 10, 17],\n",
              "        [ 7, 12, 18, 16]],\n",
              "\n",
              "       [[18,  4, 14,  5],\n",
              "        [17,  1, 18,  7],\n",
              "        [ 1,  9,  8,  4]]], dtype=int32)>"
            ]
          },
          "metadata": {},
          "execution_count": 17
        }
      ],
      "source": [
        "random_4_T1 = tf.random.uniform(shape=(2,3,4), minval=1, maxval=20, dtype=tf.int32)\n",
        "random_4_T1"
      ]
    },
    {
      "cell_type": "code",
      "execution_count": 18,
      "metadata": {
        "colab": {
          "base_uri": "https://localhost:8080/"
        },
        "id": "5bOgwFBtb3F_",
        "outputId": "3c041afe-279a-4c63-dfe5-4b5af76cf9d3"
      },
      "outputs": [
        {
          "output_type": "execute_result",
          "data": {
            "text/plain": [
              "(<tf.Tensor: shape=(), dtype=int32, numpy=10>,\n",
              " <tf.Tensor: shape=(4,), dtype=int32, numpy=array([19, 11, 15,  8], dtype=int32)>,\n",
              " <tf.Tensor: shape=(3,), dtype=int32, numpy=array([4, 1, 9], dtype=int32)>,\n",
              " <tf.Tensor: shape=(2, 3), dtype=int32, numpy=\n",
              " array([[ 8, 17, 16],\n",
              "        [ 5,  7,  4]], dtype=int32)>)"
            ]
          },
          "metadata": {},
          "execution_count": 18
        }
      ],
      "source": [
        "# Extract the element at position (0, 1, 2)\n",
        "n1 = random_4_T1[0,1,2]\n",
        "\n",
        "# Extract the first row of the first matrix\n",
        "n2 = random_4_T1[0,0]\n",
        "\n",
        "# Extract the second column of the second matrix\n",
        "n3 = random_4_T1[1,:,1]\n",
        "\n",
        "# Extract the last element of each row in both matrices\n",
        "n4 = random_4_T1[:,:,-1]\n",
        "n1,n2,n3,n4"
      ]
    },
    {
      "cell_type": "markdown",
      "metadata": {
        "id": "mB3e8USGgaDX"
      },
      "source": [
        "### Manipulation with tensors.(Tensors Operations)"
      ]
    },
    {
      "cell_type": "code",
      "execution_count": 19,
      "metadata": {
        "colab": {
          "base_uri": "https://localhost:8080/"
        },
        "id": "X6QinvirgxM3",
        "outputId": "bfbce521-cfc5-4bb3-f257-29de835584b9"
      },
      "outputs": [
        {
          "output_type": "execute_result",
          "data": {
            "text/plain": [
              "(<tf.Tensor: shape=(2, 2), dtype=int32, numpy=\n",
              " array([[1, 2],\n",
              "        [3, 4]], dtype=int32)>,\n",
              " <tf.Tensor: shape=(2, 2), dtype=int32, numpy=\n",
              " array([[1, 2],\n",
              "        [3, 4]], dtype=int32)>)"
            ]
          },
          "metadata": {},
          "execution_count": 19
        }
      ],
      "source": [
        "random_1 = tf.constant([[1,2],[3,4]])\n",
        "random_2 = tf.constant([[1,2],[3,4]])\n",
        "random_1, random_2"
      ]
    },
    {
      "cell_type": "code",
      "execution_count": 20,
      "metadata": {
        "colab": {
          "base_uri": "https://localhost:8080/"
        },
        "id": "sv59Llxyib_g",
        "outputId": "655c3d66-c6fc-4696-8d65-fb4449958251"
      },
      "outputs": [
        {
          "output_type": "execute_result",
          "data": {
            "text/plain": [
              "<tf.Tensor: shape=(2, 2), dtype=int32, numpy=\n",
              "array([[11, 12],\n",
              "       [13, 14]], dtype=int32)>"
            ]
          },
          "metadata": {},
          "execution_count": 20
        }
      ],
      "source": [
        "# NOT A GLOBAL MANIPULATION\n",
        "random_1 + 10"
      ]
    },
    {
      "cell_type": "code",
      "execution_count": 21,
      "metadata": {
        "colab": {
          "base_uri": "https://localhost:8080/"
        },
        "id": "DFDBnU6uc4tA",
        "outputId": "64ba12c5-0a2c-4def-a88f-e7e83398dd15"
      },
      "outputs": [
        {
          "output_type": "execute_result",
          "data": {
            "text/plain": [
              "(<tf.Tensor: shape=(2, 2), dtype=int32, numpy=\n",
              " array([[1, 2],\n",
              "        [3, 4]], dtype=int32)>,\n",
              " <tf.Tensor: shape=(2, 2), dtype=int32, numpy=\n",
              " array([[11, 12],\n",
              "        [13, 14]], dtype=int32)>)"
            ]
          },
          "metadata": {},
          "execution_count": 21
        }
      ],
      "source": [
        "random_1 + 10\n",
        "\n",
        "# CREATE A GLOBAL MANIPULATION\n",
        "random_2 = random_2 + 10\n",
        "random_1, random_2"
      ]
    },
    {
      "cell_type": "code",
      "execution_count": 22,
      "metadata": {
        "colab": {
          "base_uri": "https://localhost:8080/"
        },
        "id": "IzYXWUE-gsQ0",
        "outputId": "d1b45ec1-23e9-402e-a9dc-25b047f152d9"
      },
      "outputs": [
        {
          "output_type": "execute_result",
          "data": {
            "text/plain": [
              "(<tf.Tensor: shape=(2, 2), dtype=int32, numpy=\n",
              " array([[1, 2],\n",
              "        [3, 4]], dtype=int32)>,\n",
              " <tf.Tensor: shape=(2, 2), dtype=int32, numpy=\n",
              " array([[11, 12],\n",
              "        [13, 14]], dtype=int32)>)"
            ]
          },
          "metadata": {},
          "execution_count": 22
        }
      ],
      "source": [
        "random_1, random_2"
      ]
    },
    {
      "cell_type": "code",
      "execution_count": 23,
      "metadata": {
        "colab": {
          "base_uri": "https://localhost:8080/"
        },
        "id": "L4pRwIXDg1IQ",
        "outputId": "ece05a3e-8a8c-4a02-e267-0d4588b78e06"
      },
      "outputs": [
        {
          "output_type": "execute_result",
          "data": {
            "text/plain": [
              "<tf.Tensor: shape=(2, 2), dtype=int32, numpy=\n",
              "array([[10, 20],\n",
              "       [30, 40]], dtype=int32)>"
            ]
          },
          "metadata": {},
          "execution_count": 23
        }
      ],
      "source": [
        "# Using operations help to run on GPU.\n",
        "tf.multiply(random_1,10)"
      ]
    },
    {
      "cell_type": "markdown",
      "metadata": {
        "id": "bybZ_whQ5U7G"
      },
      "source": [
        "### Matrix multiplication using tensorflow\n",
        "\n",
        "**Rules:**\n",
        "1.   Inner dimension must match.\n",
        "2.   Output is of the outer dimension type.\n",
        "\n",
        "**Note:**\n",
        "1.   **\"@\"** is used for matrix multiplication in python.\n",
        "2.   `tf.matmul()` or `tf.linalg.matmul()` used for matrix multiplication\n",
        "3.   Generally, Tensors are represented in capital letter variables.\n",
        "4.   Generally `transpose` is used over `reshape` when we want to do matrix multiplication.\n",
        "\n"
      ]
    },
    {
      "cell_type": "code",
      "execution_count": 24,
      "metadata": {
        "colab": {
          "base_uri": "https://localhost:8080/"
        },
        "id": "M8UDdYeKisS5",
        "outputId": "1cffdcf3-c1f5-4e97-8c82-74bb84f96d34"
      },
      "outputs": [
        {
          "output_type": "execute_result",
          "data": {
            "text/plain": [
              "(TensorShape([2, 3]), TensorShape([2, 3]))"
            ]
          },
          "metadata": {},
          "execution_count": 24
        }
      ],
      "source": [
        "X = tf.constant([[1,2,3],[4,5,6]])\n",
        "Y = tf.constant([[3,2,1],[6,5,4]])\n",
        "X.shape, Y.shape"
      ]
    },
    {
      "cell_type": "code",
      "execution_count": 25,
      "metadata": {
        "id": "6TmradSn5fmL"
      },
      "outputs": [],
      "source": [
        "# tf.matmul(X,Y)"
      ]
    },
    {
      "cell_type": "code",
      "execution_count": 26,
      "metadata": {
        "colab": {
          "base_uri": "https://localhost:8080/"
        },
        "id": "Yp2mqOa-X3iQ",
        "outputId": "8620d9f3-fc2d-42bc-870b-741fe8b8da0d"
      },
      "outputs": [
        {
          "output_type": "execute_result",
          "data": {
            "text/plain": [
              "<tf.Tensor: shape=(2, 2), dtype=int32, numpy=\n",
              "array([[20, 26],\n",
              "       [47, 62]], dtype=int32)>"
            ]
          },
          "metadata": {},
          "execution_count": 26
        }
      ],
      "source": [
        "# Changed the shape of Y for matrix multiplication using tf.reshape().\n",
        "\n",
        "X @ tf.reshape(Y, shape=(3,2))"
      ]
    },
    {
      "cell_type": "code",
      "execution_count": 27,
      "metadata": {
        "colab": {
          "base_uri": "https://localhost:8080/"
        },
        "id": "IiI9V0UuY5Uh",
        "outputId": "5b7ab624-4078-47d3-9086-2a8b94ab27b5"
      },
      "outputs": [
        {
          "output_type": "execute_result",
          "data": {
            "text/plain": [
              "<tf.Tensor: shape=(2, 2), dtype=int32, numpy=\n",
              "array([[10, 28],\n",
              "       [28, 73]], dtype=int32)>"
            ]
          },
          "metadata": {},
          "execution_count": 27
        }
      ],
      "source": [
        "# Changed the shape of Y by taking the transpose of Y by using tf.transpose()\n",
        "\n",
        "X @ tf.transpose(Y)"
      ]
    },
    {
      "cell_type": "code",
      "execution_count": 28,
      "metadata": {
        "colab": {
          "base_uri": "https://localhost:8080/"
        },
        "id": "E5Q6XCo3Zdx0",
        "outputId": "d363b9bc-7b8a-478f-b619-f5812063aa8f"
      },
      "outputs": [
        {
          "output_type": "execute_result",
          "data": {
            "text/plain": [
              "(<tf.Tensor: shape=(2, 3), dtype=int32, numpy=\n",
              " array([[3, 2, 1],\n",
              "        [6, 5, 4]], dtype=int32)>,\n",
              " <tf.Tensor: shape=(3, 2), dtype=int32, numpy=\n",
              " array([[3, 2],\n",
              "        [1, 6],\n",
              "        [5, 4]], dtype=int32)>,\n",
              " <tf.Tensor: shape=(3, 2), dtype=int32, numpy=\n",
              " array([[3, 6],\n",
              "        [2, 5],\n",
              "        [1, 4]], dtype=int32)>)"
            ]
          },
          "metadata": {},
          "execution_count": 28
        }
      ],
      "source": [
        "# Difference in both answers because reshape and transpose are not same. Here is example of it.\n",
        "\n",
        "Y, tf.reshape(Y, shape=(3,2)), tf.transpose(Y)"
      ]
    },
    {
      "cell_type": "code",
      "execution_count": 29,
      "metadata": {
        "colab": {
          "base_uri": "https://localhost:8080/"
        },
        "id": "Ngspbt3OZ8gD",
        "outputId": "a906c8af-ff98-4de6-cfb9-f5533cd26ef6"
      },
      "outputs": [
        {
          "output_type": "execute_result",
          "data": {
            "text/plain": [
              "<tf.Tensor: shape=(2, 2), dtype=int32, numpy=\n",
              "array([[10, 28],\n",
              "       [28, 73]], dtype=int32)>"
            ]
          },
          "metadata": {},
          "execution_count": 29
        }
      ],
      "source": [
        "# Multiplication using tf.matmul or tf.linalg.matmul\n",
        "\n",
        "tf.linalg.matmul(a=X,b=Y,transpose_a=False, transpose_b=True)"
      ]
    },
    {
      "cell_type": "markdown",
      "metadata": {
        "id": "Upx2Az8muNHW"
      },
      "source": [
        "### Converting data type of Tensors\n",
        "\n",
        "*   **Mixed precision** is the use of both 16-bit and 32-bit floating-point types in a model during training to make it run faster and use less memory.\n",
        "[More info](https://www.tensorflow.org/guide/mixed_precision)\n"
      ]
    },
    {
      "cell_type": "code",
      "execution_count": 30,
      "metadata": {
        "colab": {
          "base_uri": "https://localhost:8080/"
        },
        "id": "H-IhHB2luaZr",
        "outputId": "4b75ce9c-752b-4a22-d8b7-5a04e71db431"
      },
      "outputs": [
        {
          "output_type": "execute_result",
          "data": {
            "text/plain": [
              "<tf.Tensor: shape=(2,), dtype=float32, numpy=array([1.2, 2. ], dtype=float32)>"
            ]
          },
          "metadata": {},
          "execution_count": 30
        }
      ],
      "source": [
        "X = tf.constant([1.2,2])\n",
        "X"
      ]
    },
    {
      "cell_type": "code",
      "execution_count": 31,
      "metadata": {
        "colab": {
          "base_uri": "https://localhost:8080/"
        },
        "id": "JAlqSBJEuhzo",
        "outputId": "40ecceb8-d6be-41aa-ad42-f7b522429f40"
      },
      "outputs": [
        {
          "output_type": "execute_result",
          "data": {
            "text/plain": [
              "<tf.Tensor: shape=(2,), dtype=int32, numpy=array([1, 2], dtype=int32)>"
            ]
          },
          "metadata": {},
          "execution_count": 31
        }
      ],
      "source": [
        "Y = tf.constant([1,2])\n",
        "Y"
      ]
    },
    {
      "cell_type": "code",
      "execution_count": 32,
      "metadata": {
        "colab": {
          "base_uri": "https://localhost:8080/"
        },
        "id": "KvY9VA7Duln_",
        "outputId": "c00a4028-14d5-4876-a071-00439aa6cdc7"
      },
      "outputs": [
        {
          "output_type": "execute_result",
          "data": {
            "text/plain": [
              "<tf.Tensor: shape=(2,), dtype=float16, numpy=array([1.2, 2. ], dtype=float16)>"
            ]
          },
          "metadata": {},
          "execution_count": 32
        }
      ],
      "source": [
        "tf.cast(X,dtype=tf.float16)"
      ]
    },
    {
      "cell_type": "code",
      "execution_count": 33,
      "metadata": {
        "colab": {
          "base_uri": "https://localhost:8080/"
        },
        "id": "wMwE1vcNvfRR",
        "outputId": "d1049112-ff2e-48ba-e822-1004529fa89b"
      },
      "outputs": [
        {
          "output_type": "execute_result",
          "data": {
            "text/plain": [
              "<tf.Tensor: shape=(2,), dtype=int16, numpy=array([1, 2], dtype=int16)>"
            ]
          },
          "metadata": {},
          "execution_count": 33
        }
      ],
      "source": [
        "tf.cast(Y,dtype=tf.int16)"
      ]
    },
    {
      "cell_type": "markdown",
      "metadata": {
        "id": "fCn0FkAtDfNu"
      },
      "source": [
        "### Aggregating functions"
      ]
    },
    {
      "cell_type": "code",
      "execution_count": 34,
      "metadata": {
        "colab": {
          "base_uri": "https://localhost:8080/"
        },
        "id": "G9qLm5k1DmQd",
        "outputId": "e94a6e64-8121-433f-9b4d-2a5f92245354"
      },
      "outputs": [
        {
          "output_type": "execute_result",
          "data": {
            "text/plain": [
              "(<tf.Tensor: shape=(50,), dtype=int64, numpy=\n",
              " array([  7, -33,  49, -28,  10, -46, -19, -22,  41,   1,  21,  29,  32,\n",
              "         10, -23,  -4, -39,  44, -43,   5,  -3,  -2, -14, -41, -50, -33,\n",
              "        -48,  41, -48, -45, -32, -34, -19,  24,  -2,   8,  -6,   4, -23,\n",
              "        -42,  -4, -19,  24, -20,   0, -36,  31,   8,  25,  48])>,\n",
              " <tf.Tensor: shape=(50,), dtype=int32, numpy=\n",
              " array([-47, -12, -40,  26, -50, -42,  20,  40,  -2,  16,  13, -15, -41,\n",
              "        -50,  -1,  -2,   9,  49,  29,  18, -46,  -7,  37, -15, -15, -18,\n",
              "         26,  33,  45,   4,  24,  12,  45,  -2, -47,  18, -22, -18,   2,\n",
              "        -35,  22,  18,  42,  48, -12, -44,   0,  45, -12, -45], dtype=int32)>)"
            ]
          },
          "metadata": {},
          "execution_count": 34
        }
      ],
      "source": [
        "# Another way to create random tensor using numpy\n",
        "X = tf.constant(np.random.randint(low=-50, high = 50, size=50))\n",
        "\n",
        "Y = tf.random.uniform(shape=(50,), minval=-50, maxval=50,dtype=tf.int32)\n",
        "X,Y"
      ]
    },
    {
      "cell_type": "code",
      "source": [
        "print(\"Value of X : \", X)\n",
        "print(\"\\n\")\n",
        "print(\"Absoulute Value of X : \", tf.abs(X))\n",
        "print(\"\\n\")\n",
        "print(\"Minimum value in X : \", tf.reduce_min(X).numpy())\n",
        "print(\"\\n\")\n",
        "print(\"Maximum value in X : \", tf.reduce_max(X).numpy())\n",
        "print(\"\\n\")\n",
        "print(\"Sum value of X : \", tf.reduce_sum(X).numpy())\n",
        "print(\"\\n\")\n",
        "print(\"Type of X : \", X.dtype)\n",
        "print(\"\\n\")\n",
        "\n",
        "# reduce_varience or reduce_std takes only floating type. So X need to typecasted\n",
        "X = tf.cast(X, tf.float32)\n",
        "\n",
        "print(\"Varience of X : \", tf.math.reduce_variance(X))\n",
        "print(\"\\n\")\n",
        "print(\"Standard deviation of X : \", tf.math.reduce_std(X))"
      ],
      "metadata": {
        "colab": {
          "base_uri": "https://localhost:8080/"
        },
        "id": "u-RPZUdhfRQx",
        "outputId": "881d9ffb-7921-4f8b-a0aa-0d03c93b8340"
      },
      "execution_count": 35,
      "outputs": [
        {
          "output_type": "stream",
          "name": "stdout",
          "text": [
            "Value of X :  tf.Tensor(\n",
            "[  7 -33  49 -28  10 -46 -19 -22  41   1  21  29  32  10 -23  -4 -39  44\n",
            " -43   5  -3  -2 -14 -41 -50 -33 -48  41 -48 -45 -32 -34 -19  24  -2   8\n",
            "  -6   4 -23 -42  -4 -19  24 -20   0 -36  31   8  25  48], shape=(50,), dtype=int64)\n",
            "\n",
            "\n",
            "Absoulute Value of X :  tf.Tensor(\n",
            "[ 7 33 49 28 10 46 19 22 41  1 21 29 32 10 23  4 39 44 43  5  3  2 14 41\n",
            " 50 33 48 41 48 45 32 34 19 24  2  8  6  4 23 42  4 19 24 20  0 36 31  8\n",
            " 25 48], shape=(50,), dtype=int64)\n",
            "\n",
            "\n",
            "Minimum value in X :  -50\n",
            "\n",
            "\n",
            "Maximum value in X :  49\n",
            "\n",
            "\n",
            "Sum value of X :  -316\n",
            "\n",
            "\n",
            "Type of X :  <dtype: 'int64'>\n",
            "\n",
            "\n",
            "Varience of X :  tf.Tensor(825.5376, shape=(), dtype=float32)\n",
            "\n",
            "\n",
            "Standard deviation of X :  tf.Tensor(28.73217, shape=(), dtype=float32)\n"
          ]
        }
      ]
    },
    {
      "cell_type": "code",
      "source": [
        "# Posotional maxiimum and minimum of a tensor\n",
        "\n",
        "print(\"Maximum element is at index : \", tf.math.argmax(X,0).numpy())\n",
        "print(\"Minimum element is at index : \", tf.math.argmin(X,0).numpy())"
      ],
      "metadata": {
        "colab": {
          "base_uri": "https://localhost:8080/"
        },
        "id": "X6NMlsnqfYDY",
        "outputId": "824f7a86-1a6f-4dec-ed0d-12f709aa4e38"
      },
      "execution_count": 36,
      "outputs": [
        {
          "output_type": "stream",
          "name": "stdout",
          "text": [
            "Maximum element is at index :  2\n",
            "Minimum element is at index :  24\n"
          ]
        }
      ]
    },
    {
      "cell_type": "code",
      "source": [
        "Z = tf.random.uniform(minval=10, maxval=60,shape=(2,2,3,3),dtype=tf.int32)\n",
        "Z"
      ],
      "metadata": {
        "colab": {
          "base_uri": "https://localhost:8080/"
        },
        "id": "YZ-mNh6xfbFe",
        "outputId": "9b5be093-2c30-4ec8-ca78-a1256b45839c"
      },
      "execution_count": 37,
      "outputs": [
        {
          "output_type": "execute_result",
          "data": {
            "text/plain": [
              "<tf.Tensor: shape=(2, 2, 3, 3), dtype=int32, numpy=\n",
              "array([[[[37, 28, 30],\n",
              "         [41, 13, 33],\n",
              "         [17, 18, 37]],\n",
              "\n",
              "        [[14, 53, 42],\n",
              "         [13, 36, 19],\n",
              "         [27, 47, 33]]],\n",
              "\n",
              "\n",
              "       [[[45, 58, 28],\n",
              "         [53, 11, 57],\n",
              "         [58, 47, 45]],\n",
              "\n",
              "        [[42, 13, 31],\n",
              "         [22, 12, 41],\n",
              "         [27, 41, 41]]]], dtype=int32)>"
            ]
          },
          "metadata": {},
          "execution_count": 37
        }
      ]
    },
    {
      "cell_type": "code",
      "source": [
        "print(\"Maximum element is at index along 0th Axis : \", tf.math.argmax(Z,0).numpy())\n",
        "print(\"Maximum element is at index along 1st Axis : \", tf.math.argmax(Z,1).numpy())\n",
        "print(\"Maximum element is at index along 2nd Axis : \", tf.math.argmax(Z,2).numpy())\n",
        "print(\"Maximum element is at index along 3rd Axis : \", tf.math.argmax(Z,3).numpy())"
      ],
      "metadata": {
        "colab": {
          "base_uri": "https://localhost:8080/"
        },
        "id": "ax8xMQ-Vfd8m",
        "outputId": "de36b560-101a-4086-914c-e9e9900e3912"
      },
      "execution_count": 38,
      "outputs": [
        {
          "output_type": "stream",
          "name": "stdout",
          "text": [
            "Maximum element is at index along 0th Axis :  [[[1 1 0]\n",
            "  [1 0 1]\n",
            "  [1 1 1]]\n",
            "\n",
            " [[1 0 0]\n",
            "  [1 0 1]\n",
            "  [0 0 1]]]\n",
            "Maximum element is at index along 1st Axis :  [[[0 1 1]\n",
            "  [0 1 0]\n",
            "  [1 1 0]]\n",
            "\n",
            " [[0 0 1]\n",
            "  [0 1 0]\n",
            "  [0 0 0]]]\n",
            "Maximum element is at index along 2nd Axis :  [[[1 0 2]\n",
            "  [2 0 0]]\n",
            "\n",
            " [[2 0 1]\n",
            "  [0 2 1]]]\n",
            "Maximum element is at index along 3rd Axis :  [[[0 0 2]\n",
            "  [1 1 1]]\n",
            "\n",
            " [[1 2 0]\n",
            "  [0 2 1]]]\n"
          ]
        }
      ]
    },
    {
      "cell_type": "markdown",
      "source": [
        "### Squeezing of a tensor"
      ],
      "metadata": {
        "id": "KX2TMITBgfLt"
      }
    },
    {
      "cell_type": "code",
      "source": [
        "tf.random.set_seed(10)\n",
        "X = tf.constant(tf.random.uniform(shape=[50]), shape=(1,1,1,1,50))\n",
        "X"
      ],
      "metadata": {
        "colab": {
          "base_uri": "https://localhost:8080/"
        },
        "id": "wVUcowh-gmUa",
        "outputId": "4f8fb1b6-8a04-447f-daef-669281925611"
      },
      "execution_count": 39,
      "outputs": [
        {
          "output_type": "execute_result",
          "data": {
            "text/plain": [
              "<tf.Tensor: shape=(1, 1, 1, 1, 50), dtype=float32, numpy=\n",
              "array([[[[[0.644151  , 0.8082472 , 0.8976548 , 0.6368902 , 0.6270969 ,\n",
              "           0.9936013 , 0.02359486, 0.03668392, 0.5860578 , 0.5740315 ,\n",
              "           0.09047401, 0.5755553 , 0.25272822, 0.11045039, 0.61225283,\n",
              "           0.1290685 , 0.89660144, 0.06479812, 0.8622047 , 0.82242084,\n",
              "           0.4016037 , 0.7659943 , 0.4539342 , 0.32376182, 0.4617684 ,\n",
              "           0.32858098, 0.8104389 , 0.1609515 , 0.07981062, 0.5934839 ,\n",
              "           0.6243702 , 0.9112947 , 0.88744843, 0.9568223 , 0.436625  ,\n",
              "           0.9997524 , 0.24064243, 0.8281152 , 0.54077435, 0.8436167 ,\n",
              "           0.33806038, 0.9431902 , 0.08632314, 0.68907607, 0.53072953,\n",
              "           0.9125186 , 0.06304038, 0.95265174, 0.8152896 , 0.57640743]]]]],\n",
              "      dtype=float32)>"
            ]
          },
          "metadata": {},
          "execution_count": 39
        }
      ]
    },
    {
      "cell_type": "code",
      "source": [
        "# Removes dimensions of size 1 from the shape of a tensor.\n",
        "X = tf.squeeze(X)\n",
        "X"
      ],
      "metadata": {
        "colab": {
          "base_uri": "https://localhost:8080/"
        },
        "id": "-JzWNWi6g4AV",
        "outputId": "d17a2d2c-7289-46fb-f9f7-25d3b440e1a3"
      },
      "execution_count": 40,
      "outputs": [
        {
          "output_type": "execute_result",
          "data": {
            "text/plain": [
              "<tf.Tensor: shape=(50,), dtype=float32, numpy=\n",
              "array([0.644151  , 0.8082472 , 0.8976548 , 0.6368902 , 0.6270969 ,\n",
              "       0.9936013 , 0.02359486, 0.03668392, 0.5860578 , 0.5740315 ,\n",
              "       0.09047401, 0.5755553 , 0.25272822, 0.11045039, 0.61225283,\n",
              "       0.1290685 , 0.89660144, 0.06479812, 0.8622047 , 0.82242084,\n",
              "       0.4016037 , 0.7659943 , 0.4539342 , 0.32376182, 0.4617684 ,\n",
              "       0.32858098, 0.8104389 , 0.1609515 , 0.07981062, 0.5934839 ,\n",
              "       0.6243702 , 0.9112947 , 0.88744843, 0.9568223 , 0.436625  ,\n",
              "       0.9997524 , 0.24064243, 0.8281152 , 0.54077435, 0.8436167 ,\n",
              "       0.33806038, 0.9431902 , 0.08632314, 0.68907607, 0.53072953,\n",
              "       0.9125186 , 0.06304038, 0.95265174, 0.8152896 , 0.57640743],\n",
              "      dtype=float32)>"
            ]
          },
          "metadata": {},
          "execution_count": 40
        }
      ]
    },
    {
      "cell_type": "markdown",
      "source": [
        "### One Hot Encoding"
      ],
      "metadata": {
        "id": "2PyszrnJPu4K"
      }
    },
    {
      "cell_type": "code",
      "source": [
        "X = [0,1,2,3]\n",
        "EncodedX = tf.one_hot(X, depth = 3)\n",
        "EncodedX1 = tf.one_hot(X, depth = 4)\n",
        "EncodedX2 = tf.one_hot(X, depth = 5)\n",
        "EncodedX3= tf.one_hot(X, depth = 6)\n",
        "EncodedX4 = tf.one_hot(X, depth = 7)\n",
        "EncodedX5 = tf.one_hot(X, depth = 4,off_value=\"Off\",on_value=\"On\",)\n",
        "EncodedX,EncodedX1,EncodedX2,EncodedX3,EncodedX4,EncodedX5"
      ],
      "metadata": {
        "colab": {
          "base_uri": "https://localhost:8080/"
        },
        "id": "sQCfBSo5Pxgw",
        "outputId": "765dfc8e-bc57-4328-9ea7-47a8c32c8304"
      },
      "execution_count": 41,
      "outputs": [
        {
          "output_type": "execute_result",
          "data": {
            "text/plain": [
              "(<tf.Tensor: shape=(4, 3), dtype=float32, numpy=\n",
              " array([[1., 0., 0.],\n",
              "        [0., 1., 0.],\n",
              "        [0., 0., 1.],\n",
              "        [0., 0., 0.]], dtype=float32)>,\n",
              " <tf.Tensor: shape=(4, 4), dtype=float32, numpy=\n",
              " array([[1., 0., 0., 0.],\n",
              "        [0., 1., 0., 0.],\n",
              "        [0., 0., 1., 0.],\n",
              "        [0., 0., 0., 1.]], dtype=float32)>,\n",
              " <tf.Tensor: shape=(4, 5), dtype=float32, numpy=\n",
              " array([[1., 0., 0., 0., 0.],\n",
              "        [0., 1., 0., 0., 0.],\n",
              "        [0., 0., 1., 0., 0.],\n",
              "        [0., 0., 0., 1., 0.]], dtype=float32)>,\n",
              " <tf.Tensor: shape=(4, 6), dtype=float32, numpy=\n",
              " array([[1., 0., 0., 0., 0., 0.],\n",
              "        [0., 1., 0., 0., 0., 0.],\n",
              "        [0., 0., 1., 0., 0., 0.],\n",
              "        [0., 0., 0., 1., 0., 0.]], dtype=float32)>,\n",
              " <tf.Tensor: shape=(4, 7), dtype=float32, numpy=\n",
              " array([[1., 0., 0., 0., 0., 0., 0.],\n",
              "        [0., 1., 0., 0., 0., 0., 0.],\n",
              "        [0., 0., 1., 0., 0., 0., 0.],\n",
              "        [0., 0., 0., 1., 0., 0., 0.]], dtype=float32)>,\n",
              " <tf.Tensor: shape=(4, 4), dtype=string, numpy=\n",
              " array([[b'On', b'Off', b'Off', b'Off'],\n",
              "        [b'Off', b'On', b'Off', b'Off'],\n",
              "        [b'Off', b'Off', b'On', b'Off'],\n",
              "        [b'Off', b'Off', b'Off', b'On']], dtype=object)>)"
            ]
          },
          "metadata": {},
          "execution_count": 41
        }
      ]
    },
    {
      "cell_type": "markdown",
      "source": [
        "### Some more mathametical functions"
      ],
      "metadata": {
        "id": "f6Ito4YqXpNO"
      }
    },
    {
      "cell_type": "code",
      "source": [
        "# Creating a random tensor.\n",
        "X = tf.range(-10,10)\n",
        "X"
      ],
      "metadata": {
        "colab": {
          "base_uri": "https://localhost:8080/"
        },
        "id": "JBHE798uXtAB",
        "outputId": "72e41855-d48a-4065-97b9-682bf2a09fc8"
      },
      "execution_count": 42,
      "outputs": [
        {
          "output_type": "execute_result",
          "data": {
            "text/plain": [
              "<tf.Tensor: shape=(20,), dtype=int32, numpy=\n",
              "array([-10,  -9,  -8,  -7,  -6,  -5,  -4,  -3,  -2,  -1,   0,   1,   2,\n",
              "         3,   4,   5,   6,   7,   8,   9], dtype=int32)>"
            ]
          },
          "metadata": {},
          "execution_count": 42
        }
      ]
    },
    {
      "cell_type": "code",
      "source": [
        "tf.square(X)"
      ],
      "metadata": {
        "colab": {
          "base_uri": "https://localhost:8080/"
        },
        "id": "O-0C0PxLX2xM",
        "outputId": "184bf20f-6cb6-417a-c32a-f3b7d563d86e"
      },
      "execution_count": 43,
      "outputs": [
        {
          "output_type": "execute_result",
          "data": {
            "text/plain": [
              "<tf.Tensor: shape=(20,), dtype=int32, numpy=\n",
              "array([100,  81,  64,  49,  36,  25,  16,   9,   4,   1,   0,   1,   4,\n",
              "         9,  16,  25,  36,  49,  64,  81], dtype=int32)>"
            ]
          },
          "metadata": {},
          "execution_count": 43
        }
      ]
    },
    {
      "cell_type": "code",
      "source": [
        "tf.math.square(X)"
      ],
      "metadata": {
        "colab": {
          "base_uri": "https://localhost:8080/"
        },
        "id": "5GY95_DAX5hR",
        "outputId": "b07d1a74-713c-48b2-a46c-1f1cb47cecb7"
      },
      "execution_count": 44,
      "outputs": [
        {
          "output_type": "execute_result",
          "data": {
            "text/plain": [
              "<tf.Tensor: shape=(20,), dtype=int32, numpy=\n",
              "array([100,  81,  64,  49,  36,  25,  16,   9,   4,   1,   0,   1,   4,\n",
              "         9,  16,  25,  36,  49,  64,  81], dtype=int32)>"
            ]
          },
          "metadata": {},
          "execution_count": 44
        }
      ]
    },
    {
      "cell_type": "code",
      "source": [
        "# Square root requires float datatype.\n",
        "# Returns null for imaginary values.\n",
        "\n",
        "tf.math.sqrt(tf.cast(X,dtype=tf.float32))"
      ],
      "metadata": {
        "colab": {
          "base_uri": "https://localhost:8080/"
        },
        "id": "cdAW8Y8vYKnw",
        "outputId": "16e59d44-83cc-4651-f16b-bba20199afef"
      },
      "execution_count": 45,
      "outputs": [
        {
          "output_type": "execute_result",
          "data": {
            "text/plain": [
              "<tf.Tensor: shape=(20,), dtype=float32, numpy=\n",
              "array([      nan,       nan,       nan,       nan,       nan,       nan,\n",
              "             nan,       nan,       nan,       nan, 0.       , 1.       ,\n",
              "       1.4142135, 1.7320508, 2.       , 2.2360678, 2.4494896, 2.6457512,\n",
              "       2.828427 , 3.       ], dtype=float32)>"
            ]
          },
          "metadata": {},
          "execution_count": 45
        }
      ]
    },
    {
      "cell_type": "markdown",
      "source": [
        "### Tensors and Numpy\n",
        "\n",
        "1.   tensor -> numpy -> array or tensor <- numpy <- array (These are interconvertable in this order or reverse)\n",
        "2.    Tensor created by using numpy is of `float64` type but directly created numpy is of `float32` type\n"
      ],
      "metadata": {
        "id": "2Ea-gYl_eZfJ"
      }
    },
    {
      "cell_type": "code",
      "source": [
        "X = tf.constant(np.array([2.,3.,4.]))\n",
        "X.dtype"
      ],
      "metadata": {
        "colab": {
          "base_uri": "https://localhost:8080/"
        },
        "id": "e4XkV8ZPec0n",
        "outputId": "7c3d2a79-3484-4c55-ab73-352aa9086aea"
      },
      "execution_count": 46,
      "outputs": [
        {
          "output_type": "execute_result",
          "data": {
            "text/plain": [
              "tf.float64"
            ]
          },
          "metadata": {},
          "execution_count": 46
        }
      ]
    },
    {
      "cell_type": "code",
      "source": [
        "tf.constant([2.,3.,4.]).dtype"
      ],
      "metadata": {
        "colab": {
          "base_uri": "https://localhost:8080/"
        },
        "id": "5rmPII8Ae5aS",
        "outputId": "3f466e7a-eae0-45ad-8dba-0fb31944cc71"
      },
      "execution_count": 47,
      "outputs": [
        {
          "output_type": "execute_result",
          "data": {
            "text/plain": [
              "tf.float32"
            ]
          },
          "metadata": {},
          "execution_count": 47
        }
      ]
    },
    {
      "cell_type": "code",
      "source": [
        "# Converting tensor into numpy\n",
        "np.array(X)"
      ],
      "metadata": {
        "colab": {
          "base_uri": "https://localhost:8080/"
        },
        "id": "YWpGKafOfCEA",
        "outputId": "324b815a-134b-4e22-8819-d01881470d0f"
      },
      "execution_count": 48,
      "outputs": [
        {
          "output_type": "execute_result",
          "data": {
            "text/plain": [
              "array([2., 3., 4.])"
            ]
          },
          "metadata": {},
          "execution_count": 48
        }
      ]
    },
    {
      "cell_type": "code",
      "source": [
        "X.numpy()"
      ],
      "metadata": {
        "colab": {
          "base_uri": "https://localhost:8080/"
        },
        "id": "ouyk6YyXf2SB",
        "outputId": "cae4cfae-6d27-4431-f4d4-16129c0c752f"
      },
      "execution_count": 49,
      "outputs": [
        {
          "output_type": "execute_result",
          "data": {
            "text/plain": [
              "array([2., 3., 4.])"
            ]
          },
          "metadata": {},
          "execution_count": 49
        }
      ]
    },
    {
      "cell_type": "markdown",
      "source": [
        "### Introduction python decorators (`@tf.function`)"
      ],
      "metadata": {
        "id": "D2atnwTngltV"
      }
    },
    {
      "cell_type": "code",
      "source": [
        "def function(X, Y):\n",
        "    return X + Y\n",
        "\n",
        "X = tf.constant(tf.random.uniform(shape=(2, 3, 4), minval=10, maxval=1000))\n",
        "Y = tf.constant(tf.random.uniform(shape=(2, 3, 4), minval=10, maxval=1000))\n",
        "\n",
        "function(X, Y)"
      ],
      "metadata": {
        "colab": {
          "base_uri": "https://localhost:8080/"
        },
        "id": "cohQieM7gyyb",
        "outputId": "f3bfe267-6306-4228-b459-c35850df3f8a"
      },
      "execution_count": 50,
      "outputs": [
        {
          "output_type": "execute_result",
          "data": {
            "text/plain": [
              "<tf.Tensor: shape=(2, 3, 4), dtype=float32, numpy=\n",
              "array([[[ 854.12384,  968.5919 ,  819.4158 , 1147.4822 ],\n",
              "        [ 657.43616, 1528.7332 ,  660.26514, 1194.2092 ],\n",
              "        [ 747.9241 , 1918.3081 , 1135.6866 , 1121.7076 ]],\n",
              "\n",
              "       [[1630.0105 , 1193.7379 ,  706.1143 , 1698.6528 ],\n",
              "        [1041.681  , 1283.0791 , 1380.8301 , 1250.9628 ],\n",
              "        [1498.6489 , 1532.81   ,  649.2053 ,  680.19574]]], dtype=float32)>"
            ]
          },
          "metadata": {},
          "execution_count": 50
        }
      ]
    },
    {
      "cell_type": "code",
      "source": [
        "import time\n",
        "\n",
        "@tf.function\n",
        "def function(X, Y):\n",
        "    return X + Y\n",
        "\n",
        "X = tf.constant(tf.random.uniform(shape=(2, 3, 4), minval=10, maxval=1000))\n",
        "Y = tf.constant(tf.random.uniform(shape=(2, 3, 4), minval=10, maxval=1000))\n",
        "\n",
        "function(X, Y)"
      ],
      "metadata": {
        "colab": {
          "base_uri": "https://localhost:8080/"
        },
        "id": "mtqVcvUShJEL",
        "outputId": "69370926-62fc-49e3-d870-7ebc5272d6c0"
      },
      "execution_count": 51,
      "outputs": [
        {
          "output_type": "execute_result",
          "data": {
            "text/plain": [
              "<tf.Tensor: shape=(2, 3, 4), dtype=float32, numpy=\n",
              "array([[[ 848.98724,  459.02942, 1225.7688 , 1154.7202 ],\n",
              "        [1316.6458 , 1447.9661 ,  585.6301 ,  842.12616],\n",
              "        [1060.603  , 1150.7207 , 1016.2385 , 1198.6514 ]],\n",
              "\n",
              "       [[ 320.27234,  712.3278 ,  700.1343 ,  852.0951 ],\n",
              "        [ 989.32104,  955.4675 , 1081.94   ,  841.3914 ],\n",
              "        [1158.8108 ,  647.35626, 1166.545  , 1546.8036 ]]], dtype=float32)>"
            ]
          },
          "metadata": {},
          "execution_count": 51
        }
      ]
    },
    {
      "cell_type": "markdown",
      "source": [
        "### Finding access to GPUs\n"
      ],
      "metadata": {
        "id": "WrzGx3rnjnVl"
      }
    },
    {
      "cell_type": "code",
      "source": [
        "tf.config.list_physical_devices('GPU')"
      ],
      "metadata": {
        "colab": {
          "base_uri": "https://localhost:8080/"
        },
        "id": "Jc-NhoRVjqun",
        "outputId": "7c385fae-bd77-433c-91e6-f7a976f1d97f"
      },
      "execution_count": 54,
      "outputs": [
        {
          "output_type": "execute_result",
          "data": {
            "text/plain": [
              "[PhysicalDevice(name='/physical_device:GPU:0', device_type='GPU')]"
            ]
          },
          "metadata": {},
          "execution_count": 54
        }
      ]
    },
    {
      "cell_type": "code",
      "source": [
        "tf.config.list_physical_devices()"
      ],
      "metadata": {
        "colab": {
          "base_uri": "https://localhost:8080/"
        },
        "id": "evoGd1dYj030",
        "outputId": "08b0b815-90a7-4f56-9d9d-038eed43a4ee"
      },
      "execution_count": 55,
      "outputs": [
        {
          "output_type": "execute_result",
          "data": {
            "text/plain": [
              "[PhysicalDevice(name='/physical_device:CPU:0', device_type='CPU'),\n",
              " PhysicalDevice(name='/physical_device:GPU:0', device_type='GPU')]"
            ]
          },
          "metadata": {},
          "execution_count": 55
        }
      ]
    }
  ],
  "metadata": {
    "colab": {
      "provenance": [],
      "gpuType": "T4",
      "authorship_tag": "ABX9TyPrUG7duxH9Gawto9oklggn",
      "include_colab_link": true
    },
    "kernelspec": {
      "display_name": "Python 3",
      "name": "python3"
    },
    "language_info": {
      "name": "python"
    },
    "accelerator": "GPU"
  },
  "nbformat": 4,
  "nbformat_minor": 0
}